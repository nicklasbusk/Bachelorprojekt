{
 "cells": [
  {
   "cell_type": "code",
   "execution_count": null,
   "metadata": {},
   "outputs": [],
   "source": [
    "import numpy as np\n",
    "from scipy.optimize import minimize\n",
    "import matplotlib.pyplot as plt\n",
    "from numba import njit\n",
    "import matplotlib.ticker as ticker\n",
    "from matplotlib.ticker import FormatStrFormatter\n",
    "import random\n"
   ]
  },
  {
   "cell_type": "code",
   "execution_count": null,
   "metadata": {},
   "outputs": [
    {
     "name": "stdout",
     "output_type": "stream",
     "text": [
      "[<generator object <genexpr> at 0x7fca98ac33c0>]\n"
     ]
    }
   ],
   "source": [
    "# Parameters\n",
    "T = 10000 # iterations \n",
    "k = 6 # price interval 1/k\n",
    "alpha = 0.3 # learning rate\n",
    "delta = 0.95 # discount factor\n",
    "theta = (-(1/T) ** i + 1 for i in range(T))\n",
    "epsilon = ((1 - theta) ** i for i in range(T))\n",
    "# initialising q-tables\n",
    "q1 = np.zeros((k, k))\n",
    "q2 = np.zeros((k, k))\n",
    "p_table = np.linspace(1/k, 1, k)\n",
    "print(np.array([epsilon]))\n"
   ]
  },
  {
   "cell_type": "code",
   "execution_count": null,
   "metadata": {},
   "outputs": [
    {
     "name": "stdout",
     "output_type": "stream",
     "text": [
      "[1.00000000e+00 1.00000000e-04 1.00000001e-16 ... 0.00000000e+00\n",
      " 0.00000000e+00 0.00000000e+00]\n"
     ]
    }
   ],
   "source": [
    "import numpy as np\n",
    "\n",
    "# Parameters\n",
    "T = 10000  # iterations\n",
    "k = 6  # price interval 1/k\n",
    "alpha = 0.3  # learning rate\n",
    "delta = 0.95  # discount factor\n",
    "\n",
    "# Creating sequences for theta and epsilon\n",
    "theta = np.array([(-(1 / T) ** i + 1) for i in range(T)])\n",
    "epsilon = np.array([(1 - theta_i) ** i for i, theta_i in enumerate(theta)])\n",
    "\n",
    "# Initializing q-tables\n",
    "q1 = np.zeros((k, k))\n",
    "q2 = np.zeros((k, k))\n",
    "p_table = np.linspace(1 / k, 1, k)\n",
    "\n",
    "print(epsilon)\n"
   ]
  },
  {
   "cell_type": "code",
   "execution_count": null,
   "metadata": {},
   "outputs": [
    {
     "name": "stderr",
     "output_type": "stream",
     "text": [
      "<>:12: SyntaxWarning: 'float' object is not callable; perhaps you missed a comma?\n",
      "<>:12: SyntaxWarning: 'float' object is not callable; perhaps you missed a comma?\n",
      "/var/folders/gr/gsfm7155227gh8vpmf4v3g840000gn/T/ipykernel_67596/3186152009.py:12: SyntaxWarning: 'float' object is not callable; perhaps you missed a comma?\n",
      "  d = 0.5(1-p1t)\n"
     ]
    }
   ],
   "source": [
    "def demand(p1t,p2t):\n",
    "    \"\"\"\n",
    "    args:\n",
    "        p1t: price of agent 1\n",
    "        p2t: price of agent 2\n",
    "    returns:\n",
    "        d: demand for given set of prices\n",
    "    \"\"\"\n",
    "    if p1t<p2t:\n",
    "        d = 1-p1t\n",
    "    elif p1t==p2t:\n",
    "        d = 0.5*(1-p1t)\n",
    "    else:\n",
    "        d = 0\n",
    "    return d"
   ]
  },
  {
   "cell_type": "code",
   "execution_count": 4,
   "metadata": {},
   "outputs": [
    {
     "ename": "NameError",
     "evalue": "name 'demand' is not defined",
     "output_type": "error",
     "traceback": [
      "\u001b[0;31m---------------------------------------------------------------------------\u001b[0m",
      "\u001b[0;31mNameError\u001b[0m                                 Traceback (most recent call last)",
      "\u001b[0;32m/var/folders/gr/gsfm7155227gh8vpmf4v3g840000gn/T/ipykernel_67740/2914076180.py\u001b[0m in \u001b[0;36m<module>\u001b[0;34m\u001b[0m\n\u001b[0;32m----> 1\u001b[0;31m \u001b[0mdemand\u001b[0m\u001b[0;34m(\u001b[0m\u001b[0;36m0.1667\u001b[0m\u001b[0;34m,\u001b[0m\u001b[0;36m0.5\u001b[0m\u001b[0;34m)\u001b[0m\u001b[0;34m\u001b[0m\u001b[0;34m\u001b[0m\u001b[0m\n\u001b[0m",
      "\u001b[0;31mNameError\u001b[0m: name 'demand' is not defined"
     ]
    }
   ],
   "source": [
    "demand(0.1667,0.5)"
   ]
  },
  {
   "cell_type": "code",
   "execution_count": 9,
   "metadata": {},
   "outputs": [],
   "source": [
    "def profit(p1t, p2t):\n",
    "    \"\"\"\n",
    "    args:\n",
    "        p1t: index price of agent 1\n",
    "        p2t: index price of agent 2\n",
    "    returns:\n",
    "        profit for agent\n",
    "    \"\"\"\n",
    "    return p_table[p1t] * demand(p_table[p1t], p_table[p2t]) "
   ]
  },
  {
   "cell_type": "code",
   "execution_count": 10,
   "metadata": {},
   "outputs": [
    {
     "data": {
      "text/plain": [
       "2"
      ]
     },
     "execution_count": 10,
     "metadata": {},
     "output_type": "execute_result"
    }
   ],
   "source": [
    "np.random.choice(len(p_table))\n"
   ]
  },
  {
   "cell_type": "code",
   "execution_count": 11,
   "metadata": {},
   "outputs": [],
   "source": [
    "def select_price_greedy(Q, current_s, p, epsilon):\n",
    "    \"\"\"Epsilon-greedy action selection.\n",
    "    args:\n",
    "        Q: Q-function\n",
    "        current_s: current state\n",
    "        p: price vector containing the possible prices\n",
    "        epsilon: probability of selecting an action uniformly at random\n",
    "        u: draw from U(0,1) distribution\n",
    "    returns:\n",
    "        the index of selected action\n",
    "    \"\"\"\n",
    "    u = random.uniform(0,1)\n",
    "    if u < epsilon:\n",
    "        #return np.random.choice(p)\n",
    "        random_index = np.random.choice(len(p_table))\n",
    "        return random_index\n",
    "    else:\n",
    "        print(Q)\n",
    "        max_idx = np.argmax(Q[np.where(p == current_s)[0][0], :])\n",
    "        #max_idx = np.argmax(Q[current_s, :])\n",
    "        return max_idx"
   ]
  },
  {
   "cell_type": "markdown",
   "metadata": {},
   "source": [
    "## Q-function"
   ]
  },
  {
   "cell_type": "code",
   "execution_count": 22,
   "metadata": {},
   "outputs": [],
   "source": [
    "def Q_func(p_it, s_t, q_table,iteration):\n",
    "    \"\"\"\n",
    "    args\n",
    "        p_it: current price index\n",
    "        s_t: current state index\n",
    "        q_table: q_table for 1 player\n",
    "    returns:\n",
    "        updated Q-table\n",
    "    \"\"\"\n",
    "    prev_est = q_table[p_it,s_t]\n",
    "    s_t1 = select_price_greedy(q_table, p_table[s_t], p_table, epsilon[iteration])\n",
    "    print(s_t1)\n",
    "    new_est = profit(p_it, s_t) + delta * profit(p_it, s_t1) + delta**2 * np.argmax(q_table[p_it, s_t1])\n",
    "    q_table[p_it,s_t] = (1 - alpha) * prev_est + alpha * new_est\n",
    "    return q_table\n"
   ]
  },
  {
   "cell_type": "markdown",
   "metadata": {},
   "source": []
  },
  {
   "cell_type": "code",
   "execution_count": 23,
   "metadata": {},
   "outputs": [
    {
     "name": "stdout",
     "output_type": "stream",
     "text": [
      "[[0. 0. 0. 0. 0. 0.]\n",
      " [0. 0. 0. 0. 0. 0.]\n",
      " [0. 0. 0. 0. 0. 0.]\n",
      " [0. 0. 0. 0. 0. 0.]\n",
      " [0. 0. 0. 0. 0. 0.]\n",
      " [0. 0. 0. 0. 0. 0.]]\n",
      "0\n"
     ]
    },
    {
     "ename": "TypeError",
     "evalue": "'float' object is not callable",
     "output_type": "error",
     "traceback": [
      "\u001b[0;31m---------------------------------------------------------------------------\u001b[0m",
      "\u001b[0;31mTypeError\u001b[0m                                 Traceback (most recent call last)",
      "\u001b[0;32m/var/folders/gr/gsfm7155227gh8vpmf4v3g840000gn/T/ipykernel_67596/1075139606.py\u001b[0m in \u001b[0;36m<module>\u001b[0;34m\u001b[0m\n\u001b[0;32m----> 1\u001b[0;31m \u001b[0mprint\u001b[0m\u001b[0;34m(\u001b[0m\u001b[0mQ_func\u001b[0m\u001b[0;34m(\u001b[0m\u001b[0;36m2\u001b[0m\u001b[0;34m,\u001b[0m \u001b[0;36m2\u001b[0m\u001b[0;34m,\u001b[0m \u001b[0mq1\u001b[0m\u001b[0;34m,\u001b[0m\u001b[0;36m2\u001b[0m\u001b[0;34m)\u001b[0m\u001b[0;34m)\u001b[0m\u001b[0;34m\u001b[0m\u001b[0;34m\u001b[0m\u001b[0m\n\u001b[0m",
      "\u001b[0;32m/var/folders/gr/gsfm7155227gh8vpmf4v3g840000gn/T/ipykernel_67596/2361941816.py\u001b[0m in \u001b[0;36mQ_func\u001b[0;34m(p_it, s_t, q_table, iteration)\u001b[0m\n\u001b[1;32m     11\u001b[0m     \u001b[0ms_t1\u001b[0m \u001b[0;34m=\u001b[0m \u001b[0mselect_price_greedy\u001b[0m\u001b[0;34m(\u001b[0m\u001b[0mq_table\u001b[0m\u001b[0;34m,\u001b[0m \u001b[0mp_table\u001b[0m\u001b[0;34m[\u001b[0m\u001b[0ms_t\u001b[0m\u001b[0;34m]\u001b[0m\u001b[0;34m,\u001b[0m \u001b[0mp_table\u001b[0m\u001b[0;34m,\u001b[0m \u001b[0mepsilon\u001b[0m\u001b[0;34m[\u001b[0m\u001b[0miteration\u001b[0m\u001b[0;34m]\u001b[0m\u001b[0;34m)\u001b[0m\u001b[0;34m\u001b[0m\u001b[0;34m\u001b[0m\u001b[0m\n\u001b[1;32m     12\u001b[0m     \u001b[0mprint\u001b[0m\u001b[0;34m(\u001b[0m\u001b[0ms_t1\u001b[0m\u001b[0;34m)\u001b[0m\u001b[0;34m\u001b[0m\u001b[0;34m\u001b[0m\u001b[0m\n\u001b[0;32m---> 13\u001b[0;31m     \u001b[0mnew_est\u001b[0m \u001b[0;34m=\u001b[0m \u001b[0mprofit\u001b[0m\u001b[0;34m(\u001b[0m\u001b[0mp_it\u001b[0m\u001b[0;34m,\u001b[0m \u001b[0ms_t\u001b[0m\u001b[0;34m)\u001b[0m \u001b[0;34m+\u001b[0m \u001b[0mdelta\u001b[0m \u001b[0;34m*\u001b[0m \u001b[0mprofit\u001b[0m\u001b[0;34m(\u001b[0m\u001b[0mp_it\u001b[0m\u001b[0;34m,\u001b[0m \u001b[0ms_t1\u001b[0m\u001b[0;34m)\u001b[0m \u001b[0;34m+\u001b[0m \u001b[0mdelta\u001b[0m\u001b[0;34m**\u001b[0m\u001b[0;36m2\u001b[0m \u001b[0;34m*\u001b[0m \u001b[0mnp\u001b[0m\u001b[0;34m.\u001b[0m\u001b[0margmax\u001b[0m\u001b[0;34m(\u001b[0m\u001b[0mq_table\u001b[0m\u001b[0;34m[\u001b[0m\u001b[0mp_it\u001b[0m\u001b[0;34m,\u001b[0m \u001b[0ms_t1\u001b[0m\u001b[0;34m]\u001b[0m\u001b[0;34m)\u001b[0m\u001b[0;34m\u001b[0m\u001b[0;34m\u001b[0m\u001b[0m\n\u001b[0m\u001b[1;32m     14\u001b[0m     \u001b[0mq_table\u001b[0m\u001b[0;34m[\u001b[0m\u001b[0mp_it\u001b[0m\u001b[0;34m,\u001b[0m\u001b[0ms_t\u001b[0m\u001b[0;34m]\u001b[0m \u001b[0;34m=\u001b[0m \u001b[0;34m(\u001b[0m\u001b[0;36m1\u001b[0m \u001b[0;34m-\u001b[0m \u001b[0malpha\u001b[0m\u001b[0;34m)\u001b[0m \u001b[0;34m*\u001b[0m \u001b[0mprev_est\u001b[0m \u001b[0;34m+\u001b[0m \u001b[0malpha\u001b[0m \u001b[0;34m*\u001b[0m \u001b[0mnew_est\u001b[0m\u001b[0;34m\u001b[0m\u001b[0;34m\u001b[0m\u001b[0m\n\u001b[1;32m     15\u001b[0m     \u001b[0;32mreturn\u001b[0m \u001b[0mq_table\u001b[0m\u001b[0;34m\u001b[0m\u001b[0;34m\u001b[0m\u001b[0m\n",
      "\u001b[0;32m/var/folders/gr/gsfm7155227gh8vpmf4v3g840000gn/T/ipykernel_67596/2399558307.py\u001b[0m in \u001b[0;36mprofit\u001b[0;34m(p1t, p2t)\u001b[0m\n\u001b[1;32m      7\u001b[0m         \u001b[0mprofit\u001b[0m \u001b[0;32mfor\u001b[0m \u001b[0magent\u001b[0m\u001b[0;34m\u001b[0m\u001b[0;34m\u001b[0m\u001b[0m\n\u001b[1;32m      8\u001b[0m     \"\"\"\n\u001b[0;32m----> 9\u001b[0;31m     \u001b[0;32mreturn\u001b[0m \u001b[0mp_table\u001b[0m\u001b[0;34m[\u001b[0m\u001b[0mp1t\u001b[0m\u001b[0;34m]\u001b[0m \u001b[0;34m*\u001b[0m \u001b[0mdemand\u001b[0m\u001b[0;34m(\u001b[0m\u001b[0mp_table\u001b[0m\u001b[0;34m[\u001b[0m\u001b[0mp1t\u001b[0m\u001b[0;34m]\u001b[0m\u001b[0;34m,\u001b[0m \u001b[0mp_table\u001b[0m\u001b[0;34m[\u001b[0m\u001b[0mp2t\u001b[0m\u001b[0;34m]\u001b[0m\u001b[0;34m)\u001b[0m\u001b[0;34m\u001b[0m\u001b[0;34m\u001b[0m\u001b[0m\n\u001b[0m",
      "\u001b[0;32m/var/folders/gr/gsfm7155227gh8vpmf4v3g840000gn/T/ipykernel_67596/3186152009.py\u001b[0m in \u001b[0;36mdemand\u001b[0;34m(p1t, p2t)\u001b[0m\n\u001b[1;32m     10\u001b[0m         \u001b[0md\u001b[0m \u001b[0;34m=\u001b[0m \u001b[0;36m1\u001b[0m\u001b[0;34m-\u001b[0m\u001b[0mp1t\u001b[0m\u001b[0;34m\u001b[0m\u001b[0;34m\u001b[0m\u001b[0m\n\u001b[1;32m     11\u001b[0m     \u001b[0;32melif\u001b[0m \u001b[0mp1t\u001b[0m\u001b[0;34m==\u001b[0m\u001b[0mp2t\u001b[0m\u001b[0;34m:\u001b[0m\u001b[0;34m\u001b[0m\u001b[0;34m\u001b[0m\u001b[0m\n\u001b[0;32m---> 12\u001b[0;31m         \u001b[0md\u001b[0m \u001b[0;34m=\u001b[0m \u001b[0;36m0.5\u001b[0m\u001b[0;34m(\u001b[0m\u001b[0;36m1\u001b[0m\u001b[0;34m-\u001b[0m\u001b[0mp1t\u001b[0m\u001b[0;34m)\u001b[0m\u001b[0;34m\u001b[0m\u001b[0;34m\u001b[0m\u001b[0m\n\u001b[0m\u001b[1;32m     13\u001b[0m     \u001b[0;32melse\u001b[0m\u001b[0;34m:\u001b[0m\u001b[0;34m\u001b[0m\u001b[0;34m\u001b[0m\u001b[0m\n\u001b[1;32m     14\u001b[0m         \u001b[0md\u001b[0m \u001b[0;34m=\u001b[0m \u001b[0;36m0\u001b[0m\u001b[0;34m\u001b[0m\u001b[0;34m\u001b[0m\u001b[0m\n",
      "\u001b[0;31mTypeError\u001b[0m: 'float' object is not callable"
     ]
    }
   ],
   "source": [
    "print(Q_func(2, 2, q1,2))"
   ]
  },
  {
   "cell_type": "code",
   "execution_count": 24,
   "metadata": {},
   "outputs": [
    {
     "data": {
      "text/plain": [
       "0.8333"
      ]
     },
     "execution_count": 24,
     "metadata": {},
     "output_type": "execute_result"
    }
   ],
   "source": [
    "demand(0.1667,0.50)"
   ]
  },
  {
   "cell_type": "code",
   "execution_count": 25,
   "metadata": {},
   "outputs": [
    {
     "name": "stdout",
     "output_type": "stream",
     "text": [
      "[0.16666667 0.33333333 0.5        0.66666667 0.83333333 1.        ]\n"
     ]
    }
   ],
   "source": [
    "print(p_table)"
   ]
  },
  {
   "cell_type": "code",
   "execution_count": 26,
   "metadata": {},
   "outputs": [],
   "source": [
    "def simulation(num_sim):\n",
    "    SavedQFunc1=[]\n",
    "    SavedQFunc2=[]\n",
    "    for i in range(num_sim): \n",
    "        q1 = np.zeros((k, k))\n",
    "        q2 = np.zeros((k, k))\n",
    "        c_state = 1\n",
    "        print(\"abe\")\n",
    "        for j in range(1,T):\n",
    "            print(\"hval\")\n",
    "            if j%2 == 1:\n",
    "                p1 = select_price_greedy(q1, c_state, p_table, epsilon[j])\n",
    "                Q_func(p1, c_state, q1, j)\n",
    "                c_state = p1\n",
    "                print(c_state)\n",
    "            else:\n",
    "                print(\"abdi\")\n",
    "                p2 = select_price_greedy(q2, c_state, p_table, epsilon[j])\n",
    "                Q_func(p2, c_state, q2, j)\n",
    "                c_state = p2\n",
    "        print(\"antilope\")\n",
    "        SavedQFunc1.append(q1)\n",
    "        SavedQFunc2.append(q2)\n",
    "    print(\"ko\")\n",
    "    return (SavedQFunc1,SavedQFunc2)\n"
   ]
  },
  {
   "cell_type": "code",
   "execution_count": 29,
   "metadata": {},
   "outputs": [],
   "source": [
    "def Q_func(p_it, s_t, q_table, iteration):\n",
    "    \"\"\"\n",
    "    args\n",
    "        p_it: current price index\n",
    "        s_t: current state index\n",
    "        q_table: q_table for 1 player\n",
    "    returns:\n",
    "        updated Q-table\n",
    "    \"\"\"\n",
    "    prev_est = q_table[p_it, s_t]\n",
    "    s_t1 = select_price_greedy(q_table, s_t, p_table, epsilon[iteration])\n",
    "    reward = profit(p_it, s_t)\n",
    "    next_max_q = np.max(q_table[p_it, s_t1])\n",
    "    new_est = (1 - alpha) * prev_est + alpha * (reward + delta * next_max_q)\n",
    "    q_table[p_it, s_t] = new_est\n",
    "    return q_table\n"
   ]
  },
  {
   "cell_type": "code",
   "execution_count": null,
   "metadata": {},
   "outputs": [
    {
     "name": "stdout",
     "output_type": "stream",
     "text": [
      "Simulation: 0\n",
      "Iteration: 1\n",
      "[[0. 0. 0. 0. 0. 0.]\n",
      " [0. 0. 0. 0. 0. 0.]\n",
      " [0. 0. 0. 0. 0. 0.]\n",
      " [0. 0. 0. 0. 0. 0.]\n",
      " [0. 0. 0. 0. 0. 0.]\n",
      " [0. 0. 0. 0. 0. 0.]]\n",
      "[[0. 0. 0. 0. 0. 0.]\n",
      " [0. 0. 0. 0. 0. 0.]\n",
      " [0. 0. 0. 0. 0. 0.]\n",
      " [0. 0. 0. 0. 0. 0.]\n",
      " [0. 0. 0. 0. 0. 0.]\n",
      " [0. 0. 0. 0. 0. 0.]]\n",
      "Agent 1 selected price: 0.16666666666666666\n",
      "Iteration: 2\n",
      "[[0. 0. 0. 0. 0. 0.]\n",
      " [0. 0. 0. 0. 0. 0.]\n",
      " [0. 0. 0. 0. 0. 0.]\n",
      " [0. 0. 0. 0. 0. 0.]\n",
      " [0. 0. 0. 0. 0. 0.]\n",
      " [0. 0. 0. 0. 0. 0.]]\n"
     ]
    },
    {
     "ename": "IndexError",
     "evalue": "index 0 is out of bounds for axis 0 with size 0",
     "output_type": "error",
     "traceback": [
      "\u001b[0;31m---------------------------------------------------------------------------\u001b[0m",
      "\u001b[0;31mIndexError\u001b[0m                                Traceback (most recent call last)",
      "\u001b[0;32m/var/folders/gr/gsfm7155227gh8vpmf4v3g840000gn/T/ipykernel_67596/3888233168.py\u001b[0m in \u001b[0;36m<module>\u001b[0;34m\u001b[0m\n\u001b[0;32m----> 1\u001b[0;31m \u001b[0mr1\u001b[0m\u001b[0;34m,\u001b[0m\u001b[0mr2\u001b[0m\u001b[0;34m=\u001b[0m\u001b[0msimulation\u001b[0m\u001b[0;34m(\u001b[0m\u001b[0;36m2\u001b[0m\u001b[0;34m)\u001b[0m\u001b[0;34m\u001b[0m\u001b[0;34m\u001b[0m\u001b[0m\n\u001b[0m\u001b[1;32m      2\u001b[0m \u001b[0;34m\u001b[0m\u001b[0m\n",
      "\u001b[0;32m/var/folders/gr/gsfm7155227gh8vpmf4v3g840000gn/T/ipykernel_67596/4273980412.py\u001b[0m in \u001b[0;36msimulation\u001b[0;34m(num_sim)\u001b[0m\n\u001b[1;32m     20\u001b[0m                 \u001b[0mprint\u001b[0m\u001b[0;34m(\u001b[0m\u001b[0;34m\"Agent 1 selected price:\"\u001b[0m\u001b[0;34m,\u001b[0m \u001b[0mp_table\u001b[0m\u001b[0;34m[\u001b[0m\u001b[0mp1\u001b[0m\u001b[0;34m]\u001b[0m\u001b[0;34m)\u001b[0m\u001b[0;34m\u001b[0m\u001b[0;34m\u001b[0m\u001b[0m\n\u001b[1;32m     21\u001b[0m             \u001b[0;32melse\u001b[0m\u001b[0;34m:\u001b[0m\u001b[0;34m\u001b[0m\u001b[0;34m\u001b[0m\u001b[0m\n\u001b[0;32m---> 22\u001b[0;31m                 \u001b[0mp2\u001b[0m \u001b[0;34m=\u001b[0m \u001b[0mselect_price_greedy\u001b[0m\u001b[0;34m(\u001b[0m\u001b[0mq2\u001b[0m\u001b[0;34m,\u001b[0m \u001b[0mc_state\u001b[0m\u001b[0;34m,\u001b[0m \u001b[0mp_table\u001b[0m\u001b[0;34m,\u001b[0m \u001b[0mepsilon\u001b[0m\u001b[0;34m[\u001b[0m\u001b[0mj\u001b[0m\u001b[0;34m]\u001b[0m\u001b[0;34m)\u001b[0m\u001b[0;34m\u001b[0m\u001b[0;34m\u001b[0m\u001b[0m\n\u001b[0m\u001b[1;32m     23\u001b[0m                 \u001b[0mQ_func\u001b[0m\u001b[0;34m(\u001b[0m\u001b[0mp2\u001b[0m\u001b[0;34m,\u001b[0m \u001b[0mc_state\u001b[0m\u001b[0;34m,\u001b[0m \u001b[0mq2\u001b[0m\u001b[0;34m,\u001b[0m \u001b[0mj\u001b[0m\u001b[0;34m)\u001b[0m\u001b[0;34m\u001b[0m\u001b[0;34m\u001b[0m\u001b[0m\n\u001b[1;32m     24\u001b[0m                 \u001b[0mc_state\u001b[0m \u001b[0;34m=\u001b[0m \u001b[0mp2\u001b[0m\u001b[0;34m\u001b[0m\u001b[0;34m\u001b[0m\u001b[0m\n",
      "\u001b[0;32m/var/folders/gr/gsfm7155227gh8vpmf4v3g840000gn/T/ipykernel_67596/446872901.py\u001b[0m in \u001b[0;36mselect_price_greedy\u001b[0;34m(Q, current_s, p, epsilon)\u001b[0m\n\u001b[1;32m     17\u001b[0m     \u001b[0;32melse\u001b[0m\u001b[0;34m:\u001b[0m\u001b[0;34m\u001b[0m\u001b[0;34m\u001b[0m\u001b[0m\n\u001b[1;32m     18\u001b[0m         \u001b[0mprint\u001b[0m\u001b[0;34m(\u001b[0m\u001b[0mQ\u001b[0m\u001b[0;34m)\u001b[0m\u001b[0;34m\u001b[0m\u001b[0;34m\u001b[0m\u001b[0m\n\u001b[0;32m---> 19\u001b[0;31m         \u001b[0mmax_idx\u001b[0m \u001b[0;34m=\u001b[0m \u001b[0mnp\u001b[0m\u001b[0;34m.\u001b[0m\u001b[0margmax\u001b[0m\u001b[0;34m(\u001b[0m\u001b[0mQ\u001b[0m\u001b[0;34m[\u001b[0m\u001b[0mnp\u001b[0m\u001b[0;34m.\u001b[0m\u001b[0mwhere\u001b[0m\u001b[0;34m(\u001b[0m\u001b[0mp\u001b[0m \u001b[0;34m==\u001b[0m \u001b[0mcurrent_s\u001b[0m\u001b[0;34m)\u001b[0m\u001b[0;34m[\u001b[0m\u001b[0;36m0\u001b[0m\u001b[0;34m]\u001b[0m\u001b[0;34m[\u001b[0m\u001b[0;36m0\u001b[0m\u001b[0;34m]\u001b[0m\u001b[0;34m,\u001b[0m \u001b[0;34m:\u001b[0m\u001b[0;34m]\u001b[0m\u001b[0;34m)\u001b[0m\u001b[0;34m\u001b[0m\u001b[0;34m\u001b[0m\u001b[0m\n\u001b[0m\u001b[1;32m     20\u001b[0m         \u001b[0;31m#max_idx = np.argmax(Q[current_s, :])\u001b[0m\u001b[0;34m\u001b[0m\u001b[0;34m\u001b[0m\u001b[0m\n\u001b[1;32m     21\u001b[0m         \u001b[0;32mreturn\u001b[0m \u001b[0mmax_idx\u001b[0m\u001b[0;34m\u001b[0m\u001b[0;34m\u001b[0m\u001b[0m\n",
      "\u001b[0;31mIndexError\u001b[0m: index 0 is out of bounds for axis 0 with size 0"
     ]
    }
   ],
   "source": [
    "\n",
    "r1,r2=simulation(2)\n",
    "\n"
   ]
  },
  {
   "cell_type": "code",
   "execution_count": null,
   "metadata": {},
   "outputs": [],
   "source": []
  },
  {
   "cell_type": "code",
   "execution_count": null,
   "metadata": {},
   "outputs": [],
   "source": []
  }
 ],
 "metadata": {
  "kernelspec": {
   "display_name": "base",
   "language": "python",
   "name": "python3"
  },
  "language_info": {
   "codemirror_mode": {
    "name": "ipython",
    "version": 3
   },
   "file_extension": ".py",
   "mimetype": "text/x-python",
   "name": "python",
   "nbconvert_exporter": "python",
   "pygments_lexer": "ipython3",
   "version": "3.9.7"
  }
 },
 "nbformat": 4,
 "nbformat_minor": 2
}
