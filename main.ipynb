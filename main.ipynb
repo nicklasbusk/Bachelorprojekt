{
 "cells": [
  {
   "cell_type": "code",
   "execution_count": 44,
   "metadata": {},
   "outputs": [],
   "source": [
    "import numpy as np\n",
    "from scipy.optimize import minimize\n",
    "import matplotlib.pyplot as plt\n",
    "from numba import njit\n",
    "import matplotlib.ticker as ticker\n",
    "from matplotlib.ticker import FormatStrFormatter\n",
    "import random\n"
   ]
  },
  {
   "cell_type": "code",
   "execution_count": 81,
   "metadata": {},
   "outputs": [],
   "source": [
    "# Parameters\n",
    "T = 10000 # iterations \n",
    "k = 6 # price interval 1/k\n",
    "alpha = 0.3 # learning rate\n",
    "delta = 0.95 # discount factor\n",
    "theta = (-(1/T) ** i + 1 for i in range(T))\n",
    "epsilon = ((1 - theta) ** i for i in range(T))\n",
    "# initialising q-tables\n",
    "q1 = np.zeros((k, k))\n",
    "q2 = np.zeros((k, k))\n",
    "p_table = np.linspace(1/k, 1, k)"
   ]
  },
  {
   "cell_type": "code",
   "execution_count": 82,
   "metadata": {},
   "outputs": [],
   "source": [
    "def demand(p1t,p2t): \n",
    "    if p1t<p2t:\n",
    "        d= 1- p1t\n",
    "    if p1t==p2t:\n",
    "        d= 0.5 * (1-p2t)\n",
    "    else:\n",
    "        d= 0\n",
    "    return d"
   ]
  },
  {
   "cell_type": "code",
   "execution_count": 83,
   "metadata": {},
   "outputs": [],
   "source": [
    "def profit(p1t, p2t):\n",
    "    return p_table[p1t] * demand(p_table[p1t], p_table[p2t]) "
   ]
  },
  {
   "cell_type": "code",
   "execution_count": 84,
   "metadata": {},
   "outputs": [],
   "source": [
    "def select_price_greedy(Q, current_s, p, epsilon):\n",
    "    \"\"\"Epsilon-greedy action selection.\n",
    "    Args:\n",
    "        Q: Q-function\n",
    "        current_s: current state\n",
    "        p: price vector containing the possible prices\n",
    "        epsilon: probability of selecting an action uniformly at random\n",
    "        u: draw from U(0,1) distribution\n",
    "    Returns:\n",
    "        the selected action\n",
    "    \"\"\"\n",
    "    u = random.uniform(0,1)\n",
    "    if u < epsilon:\n",
    "        return np.random.choice(p)\n",
    "    else:\n",
    "        max_idx = np.argmax(Q[np.where(p == current_s)[0][0], :])\n",
    "        return p[max_idx]"
   ]
  },
  {
   "cell_type": "markdown",
   "metadata": {},
   "source": [
    "## Q-function"
   ]
  },
  {
   "cell_type": "code",
   "execution_count": 85,
   "metadata": {},
   "outputs": [],
   "source": [
    "def Q_func(p_it, s_t, q_table):\n",
    "    \"\"\"\n",
    "    args\n",
    "        p_it: current price index\n",
    "        s_t: current state index\n",
    "        q_table: q_table for 1 player\n",
    "    \"\"\"\n",
    "    prev_est = q_table[p_it,s_t]\n",
    "    s_t1 = select_price_greedy(q_table, p_table[s_t], p_table, 0.0000275)\n",
    "    new_est = profit(p_it, s_t) + delta * profit(p_it, s_t1) + delta**2 * np.argmax(q_table[p_it, s_t1])\n",
    "    q_table[p_it,s_t] = (1 - alpha) * prev_est + alpha * new_est\n",
    "    return q_table\n",
    "\n",
    "\n",
    "\n",
    "\n"
   ]
  },
  {
   "cell_type": "code",
   "execution_count": 86,
   "metadata": {},
   "outputs": [
    {
     "ename": "IndexError",
     "evalue": "only integers, slices (`:`), ellipsis (`...`), numpy.newaxis (`None`) and integer or boolean arrays are valid indices",
     "output_type": "error",
     "traceback": [
      "\u001b[0;31m---------------------------------------------------------------------------\u001b[0m",
      "\u001b[0;31mIndexError\u001b[0m                                Traceback (most recent call last)",
      "\u001b[0;32m/var/folders/gr/gsfm7155227gh8vpmf4v3g840000gn/T/ipykernel_49047/3772848959.py\u001b[0m in \u001b[0;36m<module>\u001b[0;34m\u001b[0m\n\u001b[0;32m----> 1\u001b[0;31m \u001b[0mQ_func\u001b[0m\u001b[0;34m(\u001b[0m\u001b[0;36m5\u001b[0m\u001b[0;34m,\u001b[0m \u001b[0;36m4\u001b[0m\u001b[0;34m,\u001b[0m \u001b[0mq1\u001b[0m\u001b[0;34m)\u001b[0m\u001b[0;34m\u001b[0m\u001b[0;34m\u001b[0m\u001b[0m\n\u001b[0m",
      "\u001b[0;32m/var/folders/gr/gsfm7155227gh8vpmf4v3g840000gn/T/ipykernel_49047/463291050.py\u001b[0m in \u001b[0;36mQ_func\u001b[0;34m(p_it, s_t, q_table)\u001b[0m\n\u001b[1;32m      8\u001b[0m     \u001b[0mprev_est\u001b[0m \u001b[0;34m=\u001b[0m \u001b[0mq_table\u001b[0m\u001b[0;34m[\u001b[0m\u001b[0mp_it\u001b[0m\u001b[0;34m,\u001b[0m\u001b[0ms_t\u001b[0m\u001b[0;34m]\u001b[0m\u001b[0;34m\u001b[0m\u001b[0;34m\u001b[0m\u001b[0m\n\u001b[1;32m      9\u001b[0m     \u001b[0ms_t1\u001b[0m \u001b[0;34m=\u001b[0m \u001b[0mselect_price_greedy\u001b[0m\u001b[0;34m(\u001b[0m\u001b[0mq_table\u001b[0m\u001b[0;34m,\u001b[0m \u001b[0mp_table\u001b[0m\u001b[0;34m[\u001b[0m\u001b[0ms_t\u001b[0m\u001b[0;34m]\u001b[0m\u001b[0;34m,\u001b[0m \u001b[0mp_table\u001b[0m\u001b[0;34m,\u001b[0m \u001b[0;36m0.0000275\u001b[0m\u001b[0;34m)\u001b[0m\u001b[0;34m\u001b[0m\u001b[0;34m\u001b[0m\u001b[0m\n\u001b[0;32m---> 10\u001b[0;31m     \u001b[0mnew_est\u001b[0m \u001b[0;34m=\u001b[0m \u001b[0mprofit\u001b[0m\u001b[0;34m(\u001b[0m\u001b[0mp_it\u001b[0m\u001b[0;34m,\u001b[0m \u001b[0ms_t\u001b[0m\u001b[0;34m)\u001b[0m \u001b[0;34m+\u001b[0m \u001b[0mdelta\u001b[0m \u001b[0;34m*\u001b[0m \u001b[0mprofit\u001b[0m\u001b[0;34m(\u001b[0m\u001b[0mp_it\u001b[0m\u001b[0;34m,\u001b[0m \u001b[0ms_t1\u001b[0m\u001b[0;34m)\u001b[0m \u001b[0;34m+\u001b[0m \u001b[0mdelta\u001b[0m\u001b[0;34m**\u001b[0m\u001b[0;36m2\u001b[0m \u001b[0;34m*\u001b[0m \u001b[0mnp\u001b[0m\u001b[0;34m.\u001b[0m\u001b[0margmax\u001b[0m\u001b[0;34m(\u001b[0m\u001b[0mq_table\u001b[0m\u001b[0;34m[\u001b[0m\u001b[0mp_it\u001b[0m\u001b[0;34m,\u001b[0m \u001b[0ms_t1\u001b[0m\u001b[0;34m]\u001b[0m\u001b[0;34m)\u001b[0m\u001b[0;34m\u001b[0m\u001b[0;34m\u001b[0m\u001b[0m\n\u001b[0m\u001b[1;32m     11\u001b[0m     \u001b[0mq_table\u001b[0m\u001b[0;34m[\u001b[0m\u001b[0mp_it\u001b[0m\u001b[0;34m,\u001b[0m\u001b[0ms_t\u001b[0m\u001b[0;34m]\u001b[0m \u001b[0;34m=\u001b[0m \u001b[0;34m(\u001b[0m\u001b[0;36m1\u001b[0m \u001b[0;34m-\u001b[0m \u001b[0malpha\u001b[0m\u001b[0;34m)\u001b[0m \u001b[0;34m*\u001b[0m \u001b[0mprev_est\u001b[0m \u001b[0;34m+\u001b[0m \u001b[0malpha\u001b[0m \u001b[0;34m*\u001b[0m \u001b[0mnew_est\u001b[0m\u001b[0;34m\u001b[0m\u001b[0;34m\u001b[0m\u001b[0m\n\u001b[1;32m     12\u001b[0m     \u001b[0;32mreturn\u001b[0m \u001b[0mq_table\u001b[0m\u001b[0;34m\u001b[0m\u001b[0;34m\u001b[0m\u001b[0m\n",
      "\u001b[0;32m/var/folders/gr/gsfm7155227gh8vpmf4v3g840000gn/T/ipykernel_49047/393520464.py\u001b[0m in \u001b[0;36mprofit\u001b[0;34m(p1t, p2t)\u001b[0m\n\u001b[1;32m      1\u001b[0m \u001b[0;32mdef\u001b[0m \u001b[0mprofit\u001b[0m\u001b[0;34m(\u001b[0m\u001b[0mp1t\u001b[0m\u001b[0;34m,\u001b[0m \u001b[0mp2t\u001b[0m\u001b[0;34m)\u001b[0m\u001b[0;34m:\u001b[0m\u001b[0;34m\u001b[0m\u001b[0;34m\u001b[0m\u001b[0m\n\u001b[0;32m----> 2\u001b[0;31m     \u001b[0;32mreturn\u001b[0m \u001b[0mp_table\u001b[0m\u001b[0;34m[\u001b[0m\u001b[0mp1t\u001b[0m\u001b[0;34m]\u001b[0m \u001b[0;34m*\u001b[0m \u001b[0mdemand\u001b[0m\u001b[0;34m(\u001b[0m\u001b[0mp_table\u001b[0m\u001b[0;34m[\u001b[0m\u001b[0mp1t\u001b[0m\u001b[0;34m]\u001b[0m\u001b[0;34m,\u001b[0m \u001b[0mp_table\u001b[0m\u001b[0;34m[\u001b[0m\u001b[0mp2t\u001b[0m\u001b[0;34m]\u001b[0m\u001b[0;34m)\u001b[0m\u001b[0;34m\u001b[0m\u001b[0;34m\u001b[0m\u001b[0m\n\u001b[0m",
      "\u001b[0;31mIndexError\u001b[0m: only integers, slices (`:`), ellipsis (`...`), numpy.newaxis (`None`) and integer or boolean arrays are valid indices"
     ]
    }
   ],
   "source": [
    "Q_func(5, 4, q1)"
   ]
  },
  {
   "cell_type": "code",
   "execution_count": null,
   "metadata": {},
   "outputs": [],
   "source": []
  }
 ],
 "metadata": {
  "kernelspec": {
   "display_name": "base",
   "language": "python",
   "name": "python3"
  },
  "language_info": {
   "codemirror_mode": {
    "name": "ipython",
    "version": 3
   },
   "file_extension": ".py",
   "mimetype": "text/x-python",
   "name": "python",
   "nbconvert_exporter": "python",
   "pygments_lexer": "ipython3",
   "version": "3.9.7"
  }
 },
 "nbformat": 4,
 "nbformat_minor": 2
}
