{
 "cells": [
  {
   "cell_type": "code",
   "execution_count": 4,
   "metadata": {},
   "outputs": [],
   "source": [
    "import random\n",
    "import numpy as np\n",
    "from scipy.optimize import minimize\n",
    "import matplotlib.pyplot as plt\n",
    "from numba import njit, prange\n",
    "import matplotlib.ticker as ticker\n",
    "from matplotlib.ticker import FormatStrFormatter\n",
    "from q_lib import *\n"
   ]
  },
  {
   "cell_type": "markdown",
   "metadata": {},
   "source": [
    "## Single run of Klien"
   ]
  },
  {
   "cell_type": "code",
   "execution_count": 5,
   "metadata": {},
   "outputs": [],
   "source": [
    "k = np.linspace(0,1,7)\n",
    "a, b, c = Klein_simulation(0.3, 0.95, 500000, k)\n"
   ]
  },
  {
   "cell_type": "code",
   "execution_count": 6,
   "metadata": {},
   "outputs": [
    {
     "data": {
      "image/png": "[encoded data removed]",
      "text/plain": [
       "<Figure size 432x288 with 1 Axes>"
      ]
     },
     "metadata": {
      "needs_background": "light"
     },
     "output_type": "display_data"
    }
   ],
   "source": [
    "x_values = range(len(b))\n",
    "\n",
    "# Plot the array as a line graph\n",
    "plt.plot(x_values, b)\n",
    "plt.plot(x_values, c)\n",
    "\n",
    "# Add labels and title\n",
    "plt.xlabel('thousands')\n",
    "plt.ylabel('Profitability')\n",
    "plt.title('Array Graph')\n",
    "plt.legend(['Player 1', 'Player 2'])\n",
    "\n",
    "# Display the graph\n",
    "plt.show()"
   ]
  },
  {
   "cell_type": "markdown",
   "metadata": {},
   "source": [
    "# joint profit maximizing"
   ]
  },
  {
   "cell_type": "code",
   "execution_count": 28,
   "metadata": {},
   "outputs": [],
   "source": [
    "avg_prof= run_sim(100, np.linspace(0,1,7))"
   ]
  },
  {
   "cell_type": "code",
   "execution_count": null,
   "metadata": {},
   "outputs": [],
   "source": [
    "fig, axs = plt.subplots(1, 1, figsize=(9,3))\n",
    "fig.suptitle(\"Average 2-player per-firm profitability in {} different runs, k={}\".format(10, 6))\n",
    "axs.set_xlabel(\"t\")\n",
    "axs.set_ylabel(\"profitability\")\n",
    "xs = np.linspace(0, 500000, 499)\n",
    "axs.set_ylim(0.00, 0.125+(0.125*0.05))\n",
    "axs.hlines(0.125, xmin=xs[0], xmax=xs[-1], colors='red', linestyles='dashed', label='Joint profit maximizing')\n",
    "axs.hlines(0.0611, xmin=xs[0], xmax=xs[-1], colors='blue', linestyles='dashed', label='Comp Benchmark/edgeworth cycle')#konstant taget fra johanne og morten\n",
    "axs.plot(xs, avg_prof, color=\"steelblue\", label = \"avg. profitability\")\n",
    "axs.legend()  # Show the legend to display the label of the newly added line\n",
    "plt.show()"
   ]
  },
  {
   "cell_type": "code",
   "execution_count": null,
   "metadata": {},
   "outputs": [],
   "source": [
    "avg_prof[498]"
   ]
  },
  {
   "cell_type": "markdown",
   "metadata": {},
   "source": [
    "## Price cycles"
   ]
  },
  {
   "cell_type": "code",
   "execution_count": null,
   "metadata": {},
   "outputs": [],
   "source": [
    "p, b, c = Klein_simulation(0.3, 0.95, 500000, np.linspace(0,1,49))\n",
    "p1 = p[0,499950:500000]\n",
    "p2 = p[1,499950:500000]\n",
    "\n",
    "plt.figure(figsize=(12, 3))\n",
    "p0s2d = p1[np.arange(0, p1.size, 2)][:-1]\n",
    "p1s2d = p2[np.arange(1, p2.size, 2)][:-1]\n",
    "\n",
    "plt.xlabel(\"t\")\n",
    "plt.ylabel(\"price\")\n",
    "plt.plot(range(0, 48, 2), p0s2d , label=\"firm 0 prices\", marker=\"o\", color=\"yellowgreen\", linestyle=\"dotted\")\n",
    "plt.plot(range(1, 48, 2), p1s2d, label=\"firm 1 prices\", marker=\"o\", color=\"purple\", linestyle=\"dotted\")\n",
    "plt.legend(loc='center left', bbox_to_anchor=(1, 0.5))"
   ]
  },
  {
   "cell_type": "markdown",
   "metadata": {},
   "source": [
    "# Forced deviation"
   ]
  },
  {
   "cell_type": "code",
   "execution_count": null,
   "metadata": {},
   "outputs": [],
   "source": [
    "Monk, profits, avg_2pp1,avg2pp2,avg_profitabilities= run_simFD(100,np.linspace(0,1,7))"
   ]
  },
  {
   "cell_type": "code",
   "execution_count": null,
   "metadata": {},
   "outputs": [],
   "source": [
    "MAnkA = Monk[0,::2]\n",
    "MAnkaB = Monk[1,::2]"
   ]
  },
  {
   "cell_type": "markdown",
   "metadata": {},
   "source": [
    "### Average Price"
   ]
  },
  {
   "cell_type": "code",
   "execution_count": null,
   "metadata": {},
   "outputs": [],
   "source": [
    "xvalues = range(len(MAnkA[249965:249985]))\n",
    "#print(p2)\n",
    "#print(new)\n",
    "# Plot the array as a line graph\n",
    "plt.figure(figsize=(12, 3))\n",
    "plt.plot(range(1,len(xvalues)*2,2), MAnkA[249965:249985], marker=\"o\", linestyle='dotted')\n",
    "plt.plot(range(0,len(xvalues)*2,2), MAnkaB[249965:249985], marker=\"o\", linestyle='dotted')\n",
    "#plt.plot(xvalues, p2, marker=\"o\", linestyle='dotted')\n",
    "\n",
    "# Add labels and title\n",
    "plt.grid()\n",
    "plt.xlabel('t')\n",
    "plt.ylabel('Avg. price')\n",
    "plt.title('Price before and after forced deviation')\n",
    "plt.legend(['Player 1 prices', 'Player 2 prices'], bbox_to_anchor=(1,0.5), loc='center left')\n",
    "\n",
    "# Display the graph\n",
    "plt.show()"
   ]
  },
  {
   "cell_type": "markdown",
   "metadata": {},
   "source": [
    "### Average Two-Period Profit"
   ]
  },
  {
   "cell_type": "code",
   "execution_count": null,
   "metadata": {},
   "outputs": [],
   "source": [
    "zoom1 = avg_profitabilities[0,249965:249985]\n",
    "zoom2 = avg_profitabilities[1,249965:249985]\n",
    "#print(\"Last 50 prices for player 1: \\n\", p1)\n",
    "#print(\"Last 50 prices for player 2: \\n\", p2)\n",
    "\n",
    "\n",
    "xvalues = range(len(zoom1))\n",
    "plt.figure(figsize=(12, 3))\n",
    "# Plot the array as a line graph\n",
    "plt.plot(range(1,len(xvalues)*2,2), zoom1, marker=\"o\", linestyle='dotted')\n",
    "plt.plot(range(2,len(xvalues)*2+1,2), zoom2, marker=\"o\", linestyle='dotted')\n",
    "\n",
    "# Add labels and title\n",
    "plt.xlabel('t')\n",
    "plt.ylabel('Profit')\n",
    "plt.title('Profit of last 50 iterations')\n",
    "plt.legend(['Player 1 prices', 'Player 2 prices'], bbox_to_anchor=(1,0.5), loc='center left')\n",
    "\n",
    "# Display the graph\n",
    "plt.show()"
   ]
  },
  {
   "cell_type": "code",
   "execution_count": null,
   "metadata": {},
   "outputs": [],
   "source": [
    "done = True\n",
    "while done:\n",
    "    a, b, c, d = Klein_simulation_FD(0.3, 0.95, 500000, np.linspace(0,1,7))\n",
    "    if abs(c[498] - d[498]) < 0.001 and abs(c[497] - d[497]) < 0.001 : \n",
    "        done = False"
   ]
  },
  {
   "cell_type": "markdown",
   "metadata": {},
   "source": [
    "### Average market price"
   ]
  },
  {
   "cell_type": "code",
   "execution_count": null,
   "metadata": {},
   "outputs": [],
   "source": [
    "p1 = Monk[0,499940:499960]\n",
    "p2 = Monk[1,499940:499960]\n",
    "\n",
    "\n",
    "new=[]\n",
    "for i in range(len(p1)):\n",
    "    res=(p1[i]+p2[i])/2\n",
    "    new.append(res)\n",
    "\n",
    "xvalues = range(len(new))\n",
    "plt.figure(figsize=(12, 3))\n",
    "\n",
    "# Plot the array as a line graph\n",
    "plt.plot(xvalues, new, marker=\"o\", linestyle='dotted')\n",
    "\n",
    "\n",
    "# Add labels and title\n",
    "plt.xlabel('t')\n",
    "plt.ylabel('Price')\n",
    "plt.title('Price of last 50 iterations')\n",
    "plt.legend(['Player 1 prices', 'Player 2 prices'], bbox_to_anchor=(1,0.5), loc='center left')\n",
    "\n",
    "# Display the graph\n",
    "plt.show()"
   ]
  },
  {
   "cell_type": "code",
   "execution_count": 11,
   "metadata": {},
   "outputs": [
    {
     "ename": "AxisError",
     "evalue": "axis 2 is out of bounds for array of dimension 2",
     "output_type": "error",
     "traceback": [
      "\u001b[0;31m---------------------------------------------------------------------------\u001b[0m",
      "\u001b[0;31mAxisError\u001b[0m                                 Traceback (most recent call last)",
      "\u001b[0;32m/var/folders/gr/gsfm7155227gh8vpmf4v3g840000gn/T/ipykernel_93879/2292613048.py\u001b[0m in \u001b[0;36m<module>\u001b[0;34m\u001b[0m\n\u001b[1;32m      1\u001b[0m \u001b[0mq\u001b[0m \u001b[0;34m=\u001b[0m \u001b[0mnp\u001b[0m\u001b[0;34m.\u001b[0m\u001b[0mones\u001b[0m\u001b[0;34m(\u001b[0m\u001b[0;34m(\u001b[0m\u001b[0;36m6\u001b[0m\u001b[0;34m,\u001b[0m\u001b[0;36m6\u001b[0m\u001b[0;34m)\u001b[0m\u001b[0;34m)\u001b[0m\u001b[0;34m\u001b[0m\u001b[0;34m\u001b[0m\u001b[0m\n\u001b[0;32m----> 2\u001b[0;31m \u001b[0mnp\u001b[0m\u001b[0;34m.\u001b[0m\u001b[0msum\u001b[0m\u001b[0;34m(\u001b[0m\u001b[0mq\u001b[0m\u001b[0;34m,\u001b[0m \u001b[0;36m2\u001b[0m\u001b[0;34m)\u001b[0m\u001b[0;34m\u001b[0m\u001b[0;34m\u001b[0m\u001b[0m\n\u001b[0m",
      "\u001b[0;32m<__array_function__ internals>\u001b[0m in \u001b[0;36msum\u001b[0;34m(*args, **kwargs)\u001b[0m\n",
      "\u001b[0;32m~/opt/anaconda3/lib/python3.9/site-packages/numpy/core/fromnumeric.py\u001b[0m in \u001b[0;36msum\u001b[0;34m(a, axis, dtype, out, keepdims, initial, where)\u001b[0m\n\u001b[1;32m   2245\u001b[0m         \u001b[0;32mreturn\u001b[0m \u001b[0mres\u001b[0m\u001b[0;34m\u001b[0m\u001b[0;34m\u001b[0m\u001b[0m\n\u001b[1;32m   2246\u001b[0m \u001b[0;34m\u001b[0m\u001b[0m\n\u001b[0;32m-> 2247\u001b[0;31m     return _wrapreduction(a, np.add, 'sum', axis, dtype, out, keepdims=keepdims,\n\u001b[0m\u001b[1;32m   2248\u001b[0m                           initial=initial, where=where)\n\u001b[1;32m   2249\u001b[0m \u001b[0;34m\u001b[0m\u001b[0m\n",
      "\u001b[0;32m~/opt/anaconda3/lib/python3.9/site-packages/numpy/core/fromnumeric.py\u001b[0m in \u001b[0;36m_wrapreduction\u001b[0;34m(obj, ufunc, method, axis, dtype, out, **kwargs)\u001b[0m\n\u001b[1;32m     85\u001b[0m                 \u001b[0;32mreturn\u001b[0m \u001b[0mreduction\u001b[0m\u001b[0;34m(\u001b[0m\u001b[0maxis\u001b[0m\u001b[0;34m=\u001b[0m\u001b[0maxis\u001b[0m\u001b[0;34m,\u001b[0m \u001b[0mout\u001b[0m\u001b[0;34m=\u001b[0m\u001b[0mout\u001b[0m\u001b[0;34m,\u001b[0m \u001b[0;34m**\u001b[0m\u001b[0mpasskwargs\u001b[0m\u001b[0;34m)\u001b[0m\u001b[0;34m\u001b[0m\u001b[0;34m\u001b[0m\u001b[0m\n\u001b[1;32m     86\u001b[0m \u001b[0;34m\u001b[0m\u001b[0m\n\u001b[0;32m---> 87\u001b[0;31m     \u001b[0;32mreturn\u001b[0m \u001b[0mufunc\u001b[0m\u001b[0;34m.\u001b[0m\u001b[0mreduce\u001b[0m\u001b[0;34m(\u001b[0m\u001b[0mobj\u001b[0m\u001b[0;34m,\u001b[0m \u001b[0maxis\u001b[0m\u001b[0;34m,\u001b[0m \u001b[0mdtype\u001b[0m\u001b[0;34m,\u001b[0m \u001b[0mout\u001b[0m\u001b[0;34m,\u001b[0m \u001b[0;34m**\u001b[0m\u001b[0mpasskwargs\u001b[0m\u001b[0;34m)\u001b[0m\u001b[0;34m\u001b[0m\u001b[0;34m\u001b[0m\u001b[0m\n\u001b[0m\u001b[1;32m     88\u001b[0m \u001b[0;34m\u001b[0m\u001b[0m\n\u001b[1;32m     89\u001b[0m \u001b[0;34m\u001b[0m\u001b[0m\n",
      "\u001b[0;31mAxisError\u001b[0m: axis 2 is out of bounds for array of dimension 2"
     ]
    }
   ],
   "source": [
    "q = np.ones((6,6))\n",
    "np.sum(q,)"
   ]
  },
  {
   "cell_type": "code",
   "execution_count": null,
   "metadata": {},
   "outputs": [],
   "source": []
  }
 ],
 "metadata": {
  "kernelspec": {
   "display_name": "base",
   "language": "python",
   "name": "python3"
  },
  "language_info": {
   "codemirror_mode": {
    "name": "ipython",
    "version": 3
   },
   "file_extension": ".py",
   "mimetype": "text/x-python",
   "name": "python",
   "nbconvert_exporter": "python",
   "pygments_lexer": "ipython3",
   "version": "3.9.7"
  }
 },
 "nbformat": 4,
 "nbformat_minor": 2
}
