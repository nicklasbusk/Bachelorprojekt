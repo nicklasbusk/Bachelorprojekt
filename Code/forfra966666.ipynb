{
 "cells": [
  {
   "cell_type": "code",
   "execution_count": 50,
   "metadata": {},
   "outputs": [],
   "source": [
    "import random\n",
    "import numpy as np\n",
    "from scipy.optimize import minimize\n",
    "import matplotlib.pyplot as plt\n",
    "from numba import njit, prange\n",
    "import matplotlib.ticker as ticker\n",
    "from matplotlib.ticker import FormatStrFormatter\n",
    "import lib as lib"
   ]
  },
  {
   "cell_type": "markdown",
   "metadata": {},
   "source": [
    "# Med p-tables"
   ]
  },
  {
   "cell_type": "code",
   "execution_count": 51,
   "metadata": {},
   "outputs": [],
   "source": [
    "@njit\n",
    "def select_price_WoLF(epsilon, price_grid, current_state, policy):\n",
    "    u = np.random.uniform(0,1)\n",
    "    if epsilon > u:\n",
    "        return np.random.choice(price_grid)\n",
    "    else:\n",
    "        cumsum = np.cumsum(policy[np.where(price_grid == current_state)[0][0], :])\n",
    "        idx = np.searchsorted(cumsum, np.array([u]))[0]\n",
    "        return price_grid[idx]\n",
    "    \n",
    "\n",
    "@njit\n",
    "def Q_func(p_curr, s_curr, s_next, alpha, delta, Q_table, price_grid) -> float: # p_table contains p and s (opponent price)\n",
    "    \"\"\"\n",
    "    args:\n",
    "        p_curr_idx: current price of player i\n",
    "        s_curr_idx: current state of player i\n",
    "        alpha: step-size parameter\n",
    "        delta: discount factor\n",
    "        Q_table: current Q_table for player i\n",
    "        price_grid: price_grid\n",
    "        s_next: next state for player i\n",
    "    returns:\n",
    "        updated value for Q_table \n",
    "    \"\"\"\n",
    "    p_curr_idx = np.where(price_grid == p_curr)[0][0]\n",
    "    s_curr_idx = np.where(price_grid == s_curr)[0][0]\n",
    "    prev_est = Q_table[p_curr_idx, s_curr_idx]\n",
    "    s_next_index=np.where(price_grid == s_next)[0][0]\n",
    "    maxed_Q = max(Q_table[:, s_next_index])\n",
    "    new_est = lib.profit(p_curr, s_curr) + delta * lib.profit(p_curr, s_next) + delta**2 * maxed_Q\n",
    "    #new_est = lib.profit(p_table[i, t], p_table[j, t-2]) + delta * lib.profit(p_table[i, t], s_next) + delta**2 * maxed_Q\n",
    "    return (1 - alpha) * prev_est + alpha * new_est\n",
    "\n",
    "@njit\n",
    "def select_price_Q(epsilon, price_grid, current_state, Q_table):\n",
    "    \"\"\"\n",
    "    args:\n",
    "        j: player 1\n",
    "        t: current period\n",
    "        p_table: 2x500.000 array storing prices for player 0 and 1\n",
    "        Q_table: current Q_table\n",
    "        price_grid: price_grid\n",
    "        epsilon: decay parameter of learning module\n",
    "    returns:\n",
    "        random price or maximized price\n",
    "    \"\"\"\n",
    "    # Exploration\n",
    "    if epsilon >= np.random.uniform(0,1):\n",
    "        return np.random.choice(price_grid)\n",
    "    else:\n",
    "    # Exploitation\n",
    "        s_t_idx = np.where(price_grid == current_state)[0][0] # current state (opponent's price)\n",
    "        maxedQ_idx = np.argmax(Q_table[:,s_t_idx])\n",
    "        return price_grid[maxedQ_idx]\n",
    "    "
   ]
  },
  {
   "cell_type": "code",
   "execution_count": 52,
   "metadata": {},
   "outputs": [],
   "source": [
    "@njit\n",
    "def WoLF_PHC_vs_Q_learner2(alpha, delta_w, delta_l, gamma, price_grid, T):\n",
    "    \"\"\"\n",
    "    args:\n",
    "        alpha: step-size parameter\n",
    "        delta_w: learnig rate when winning\n",
    "        pdelta_l: learning rate when losing\n",
    "        gamma: discount factor\n",
    "        price_grid: vector containing all prices. \n",
    "        T: learning duration\n",
    "    returns:\n",
    "        q1: Q-table player 1\n",
    "        q2: Q-table player 2\n",
    "        avg_profs1: vecotr of average profits for player 1\n",
    "        avg_profs2: vector of average profits for player 2\n",
    "        profits: 2x500.000 array containing all profits\n",
    "        p_table: 2x500.000 array conatining all prices played\n",
    "    \"\"\"\n",
    "    # Initializing values\n",
    "    epsilon = lib.calculate_epsilon(T)\n",
    "    i = 0\n",
    "    j = 1\n",
    "    t = 0\n",
    "    # Initializing Q-functions\n",
    "    k = len(price_grid)\n",
    "    q1 = np.zeros((k, k))\n",
    "    q2 = np.zeros((k, k))\n",
    "    # Initializing policies\n",
    "    policy_1 = np.ones((k, k)) / k\n",
    "    # Initializing average policies\n",
    "    avg_policy1 = np.ones((k, k)) / k\n",
    "    # Initializing N, a counter\n",
    "    N1 = np.zeros(k)\n",
    "    # Initializing profits\n",
    "    p_table = np.zeros((2,T))\n",
    "    profits = np.zeros((2,T))\n",
    "    avg_profs1 = []\n",
    "    avg_profs2 = []\n",
    "\n",
    "    # Setting random price and state for t = 0\n",
    "    p_table[i, t] = np.random.choice(price_grid) #p_Q = np.random.choice(price_grid) \n",
    "    p_table[j, t] = np.random.choice(price_grid) #p_WoLF = np.random.choice(price_grid) \n",
    "    \n",
    "    t += 1\n",
    "    # Setting random price and state for t = 1\n",
    "    p_table[i, t] = np.random.choice(price_grid) #s_Q = np.random.choice(price_grid) \n",
    "    p_table[j, t] = np.random.choice(price_grid) #s_WoLF = np.random.choice(price_grid) \n",
    "    t += 1\n",
    "    method = 'WoLF-PHC'\n",
    "    for t in range(t, T-1):\n",
    "        if method == 'WoLF-PHC':\n",
    "            p_table[i, t] = p_table[i, t-1]\n",
    "            profit_now = lib.profit(p_table[i,t], p_table[j,t-1]) \n",
    "            profit_next = lib.profit(p_table[i,t], p_table[j,t]) \n",
    "            r_t = profit_now + gamma * profit_next\n",
    "            p_idx = np.where(price_grid == p_table[i,t])[0][0]\n",
    "            s_curr_idx = np.where(price_grid == p_table[j,t-1])[0][0]\n",
    "            s_next_idx = np.where(price_grid == p_table[j, t])[0][0]\n",
    "            \n",
    "            max_Q = max(q1[s_next_idx, :])\n",
    "            q1[s_curr_idx, p_idx] = q1[s_curr_idx, p_idx] + alpha * (r_t + gamma**2 *max_Q - q1[s_curr_idx, p_idx])\n",
    "            N1[s_curr_idx] += 1\n",
    "\n",
    "            avg_policy1[s_curr_idx, :] = avg_policy1[s_curr_idx, :] + (1 / N1[s_curr_idx]) * (policy_1[s_curr_idx, :] - avg_policy1[s_curr_idx, :])\n",
    "            avg_policy1[s_curr_idx, :] /= avg_policy1[s_curr_idx, :].sum() # To ensure a legal probability distribution\n",
    "            if np.sum(q1[s_curr_idx, :] * policy_1[s_curr_idx, :]) > np.sum(q1[s_curr_idx, :] * avg_policy1[s_curr_idx, :]):\n",
    "                delta = delta_w\n",
    "            else:\n",
    "                delta = delta_l \n",
    "\n",
    "            delta_sa = np.zeros(k) - delta / (k - 1)\n",
    "            p_max_idx = np.argmax(q1[s_curr_idx, :])\n",
    "            delta_sa[p_max_idx] = - (delta_sa.sum() - delta_sa[p_max_idx])\n",
    "            policy_1[s_curr_idx, :] += delta_sa\n",
    "            policy_1[s_curr_idx, :] = np.minimum(1, np.maximum(policy_1[s_curr_idx, :], 0))\n",
    "            policy_1[s_curr_idx, :] /= policy_1[s_curr_idx, :].sum() # To ensure a legal probability distribution\n",
    "            p_table[i,t+1] = select_price_WoLF(epsilon[t], price_grid, p_table[j,t], policy_1)\n",
    "            p_table[j,t+1] = p_table[j,t]\n",
    "            profits[i, t] = profit_now #profit(p_Q, p_WoLF)\n",
    "            profits[j, t] = lib.profit(p_table[j,t], p_table[i,t])\n",
    "\n",
    "            i,j = j,i\n",
    "            method = 'Q-learner'\n",
    "        else:\n",
    "            p_table[i, t] = p_table[i, t-1]\n",
    "            profit_now = lib.profit(p_table[i,t], p_table[j,t-1])\n",
    "            profit_next = lib.profit(p_table[i,t], p_table[j,t])\n",
    "            r_t = profit_now + gamma * profit_next\n",
    "            p_table[i,t+1] = select_price_Q(epsilon[t], price_grid, p_table[j,t], q2)\n",
    "            q2[s_curr_idx, p_idx] = Q_func(p_table[i,t], p_table[j,t-1], p_table[j,t], alpha, gamma, q2, price_grid)\n",
    "            p_table[j,t+1] = p_table[j,t]\n",
    "            profits[i, t] = profit_now\n",
    "            profits[j, t] = lib.profit(p_table[j,t], p_table[i,t])\n",
    "            i,j = j,i\n",
    "            method = 'WoLF-PHC'\n",
    "         # compute avg profitability of last 1000 runs for both firms\n",
    "        if t % 1000 == 0:\n",
    "            profitability = np.sum(profits[0, (t-1000):t])/1000\n",
    "            avg_profs1.append(profitability)\n",
    "            profitability = np.sum(profits[1, (t-1000):t])/1000\n",
    "            avg_profs2.append(profitability)\n",
    "\n",
    "           \n",
    "    return q1, q2, avg_profs1, avg_profs2, profits, p_table\n",
    "\n",
    "            \n",
    "\n"
   ]
  },
  {
   "cell_type": "code",
   "execution_count": 65,
   "metadata": {},
   "outputs": [],
   "source": [
    "q1, q2, avg_prof1, avg_prof2, profit, p_table = WoLF_PHC_vs_Q_learner2(0.3, 0.2, 0.6, 0.95, np.linspace(0,1,7), 500000)"
   ]
  },
  {
   "cell_type": "code",
   "execution_count": 66,
   "metadata": {},
   "outputs": [
    {
     "data": {
      "text/plain": [
       "array([[0.5       , 0.5       , 0.5       , 0.5       , 0.5       ,\n",
       "        1.        , 1.        , 0.5       , 0.5       , 0.5       ,\n",
       "        0.5       , 0.5       , 0.5       , 1.        , 1.        ,\n",
       "        0.5       , 0.5       , 0.5       , 0.5       , 0.5       ,\n",
       "        0.5       , 1.        , 1.        , 0.5       , 0.5       ,\n",
       "        0.5       , 0.5       , 0.5       , 0.5       , 1.        ],\n",
       "       [0.66666667, 0.66666667, 0.66666667, 0.66666667, 0.16666667,\n",
       "        0.16666667, 0.66666667, 0.66666667, 0.66666667, 0.66666667,\n",
       "        0.66666667, 0.66666667, 0.16666667, 0.16666667, 0.66666667,\n",
       "        0.66666667, 0.66666667, 0.66666667, 0.66666667, 0.66666667,\n",
       "        0.16666667, 0.16666667, 0.66666667, 0.66666667, 0.66666667,\n",
       "        0.66666667, 0.66666667, 0.66666667, 0.16666667, 0.16666667]])"
      ]
     },
     "execution_count": 66,
     "metadata": {},
     "output_type": "execute_result"
    }
   ],
   "source": [
    "p_table[:, 499920:499950]"
   ]
  },
  {
   "cell_type": "code",
   "execution_count": 67,
   "metadata": {},
   "outputs": [
    {
     "data": {
      "image/png": "[encoded data removed]",
      "text/plain": [
       "<Figure size 432x288 with 1 Axes>"
      ]
     },
     "metadata": {
      "needs_background": "light"
     },
     "output_type": "display_data"
    }
   ],
   "source": [
    "x_values = range(len(avg_prof1))\n",
    "\n",
    "# Plot the array as a line graph\n",
    "plt.plot(x_values, avg_prof1)\n",
    "plt.plot(x_values, avg_prof2)\n",
    "\n",
    "# Add labels and title\n",
    "plt.xlabel('thousands')\n",
    "plt.ylabel('Profitability')\n",
    "plt.title('Array Graph')\n",
    "plt.legend(['Player 1', 'Player 2'])\n",
    "\n",
    "# Display the graph\n",
    "plt.show()"
   ]
  },
  {
   "cell_type": "code",
   "execution_count": null,
   "metadata": {},
   "outputs": [],
   "source": []
  },
  {
   "cell_type": "code",
   "execution_count": null,
   "metadata": {},
   "outputs": [],
   "source": []
  },
  {
   "cell_type": "code",
   "execution_count": null,
   "metadata": {},
   "outputs": [],
   "source": []
  },
  {
   "cell_type": "code",
   "execution_count": null,
   "metadata": {},
   "outputs": [],
   "source": []
  }
 ],
 "metadata": {
  "kernelspec": {
   "display_name": "base",
   "language": "python",
   "name": "python3"
  },
  "language_info": {
   "codemirror_mode": {
    "name": "ipython",
    "version": 3
   },
   "file_extension": ".py",
   "mimetype": "text/x-python",
   "name": "python",
   "nbconvert_exporter": "python",
   "pygments_lexer": "ipython3",
   "version": "3.9.7"
  }
 },
 "nbformat": 4,
 "nbformat_minor": 2
}
