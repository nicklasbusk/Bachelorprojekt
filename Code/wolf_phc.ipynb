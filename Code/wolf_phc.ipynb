{
 "cells": [
  {
   "cell_type": "code",
   "execution_count": 1,
   "metadata": {},
   "outputs": [],
   "source": [
    "import random\n",
    "import numpy as np\n",
    "from scipy.optimize import minimize\n",
    "import matplotlib.pyplot as plt\n",
    "from numba import njit, prange\n",
    "import matplotlib.ticker as ticker\n",
    "from matplotlib.ticker import FormatStrFormatter\n",
    "from WoLF_lib import *"
   ]
  },
  {
   "cell_type": "markdown",
   "metadata": {},
   "source": [
    "# Single run of WoLF-PHC"
   ]
  },
  {
   "cell_type": "code",
   "execution_count": 2,
   "metadata": {},
   "outputs": [
    {
     "name": "stdout",
     "output_type": "stream",
     "text": [
      "[[0.33333333 0.5        0.5        0.16666667 0.16666667 0.33333333\n",
      "  0.33333333 0.16666667 0.16666667 0.5       ]\n",
      " [0.16666667 0.16666667 0.16666667 0.16666667 0.         0.\n",
      "  0.5        0.5        0.16666667 0.16666667]]\n"
     ]
    }
   ],
   "source": [
    "price_grid = np.linspace(0,1,7)\n",
    "k = len(price_grid)\n",
    "q = np.zeros((k,k))\n",
    "p_table = np.zeros((2, 10))\n",
    "p_table[0,0] = np.random.choice(price_grid)\n",
    "p_table[1,0] = np.random.choice(price_grid)\n",
    "for t in range(1,10):\n",
    "    if t%2 == 0:\n",
    "        p_table[0,t] = p_table[0,t-1]\n",
    "        p_table[1,t] =  np.random.choice(price_grid)\n",
    "    else:\n",
    "        p_table[1,t] = p_table[1,t-1]\n",
    "        p_table[0,t] =  np.random.choice(price_grid)\n",
    "\n",
    "print(p_table)\n"
   ]
  },
  {
   "cell_type": "code",
   "execution_count": 3,
   "metadata": {},
   "outputs": [
    {
     "name": "stdout",
     "output_type": "stream",
     "text": [
      "[[0.         0.         0.         0.         0.         0.\n",
      "  0.        ]\n",
      " [0.         0.         0.         0.         0.         0.\n",
      "  0.        ]\n",
      " [0.         0.         0.         0.         0.         0.\n",
      "  0.        ]\n",
      " [0.         0.06145833 0.         0.         0.         0.\n",
      "  0.        ]\n",
      " [0.         0.         0.         0.         0.         0.\n",
      "  0.        ]\n",
      " [0.         0.         0.         0.         0.         0.\n",
      "  0.        ]\n",
      " [0.         0.         0.         0.         0.         0.\n",
      "  0.        ]]\n"
     ]
    }
   ],
   "source": [
    "res=q_func_wolf(q, 0.3, 0.95, p_table, price_grid, 0, 1, 9)\n",
    "print(res)"
   ]
  },
  {
   "cell_type": "code",
   "execution_count": 4,
   "metadata": {},
   "outputs": [],
   "source": [
    "a,b,c=WoLF_PHC(0.3, 0.2, 0.6, 0.95, np.linspace(0,1,7), 500000)"
   ]
  },
  {
   "cell_type": "code",
   "execution_count": 5,
   "metadata": {},
   "outputs": [
    {
     "data": {
      "text/plain": [
       "array([[1.        , 0.83333333, 0.16666667, 0.16666667, 0.83333333,\n",
       "        0.83333333, 0.83333333, 0.83333333, 0.16666667, 0.16666667,\n",
       "        0.83333333, 0.83333333, 0.16666667, 0.16666667, 0.5       ,\n",
       "        0.5       , 0.        , 0.        , 0.66666667, 0.66666667],\n",
       "       [0.16666667, 0.83333333, 0.83333333, 0.        , 0.        ,\n",
       "        0.66666667, 0.66666667, 1.        , 1.        , 0.        ,\n",
       "        0.        , 0.16666667, 0.16666667, 0.83333333, 0.83333333,\n",
       "        0.66666667, 0.66666667, 0.66666667, 0.66666667, 0.66666667]])"
      ]
     },
     "execution_count": 5,
     "metadata": {},
     "output_type": "execute_result"
    }
   ],
   "source": [
    "c[:, 0:20]"
   ]
  },
  {
   "cell_type": "code",
   "execution_count": 6,
   "metadata": {},
   "outputs": [
    {
     "data": {
      "image/png": "[encoded data removed]",
      "text/plain": [
       "<Figure size 432x288 with 1 Axes>"
      ]
     },
     "metadata": {
      "needs_background": "light"
     },
     "output_type": "display_data"
    }
   ],
   "source": [
    "x_values = range(len(b))\n",
    "\n",
    "# Plot the array as a line graph\n",
    "plt.plot(x_values, a)\n",
    "plt.plot(x_values, b)\n",
    "\n",
    "# Add labels and title\n",
    "plt.xlabel('thousands')\n",
    "plt.ylabel('Profitability')\n",
    "plt.title('Array Graph')\n",
    "plt.legend(['Player 1', 'Player 2'])\n",
    "\n",
    "# Display the graph\n",
    "plt.show()"
   ]
  },
  {
   "cell_type": "code",
   "execution_count": null,
   "metadata": {},
   "outputs": [],
   "source": []
  },
  {
   "cell_type": "code",
   "execution_count": null,
   "metadata": {},
   "outputs": [],
   "source": []
  }
 ],
 "metadata": {
  "kernelspec": {
   "display_name": "base",
   "language": "python",
   "name": "python3"
  },
  "language_info": {
   "codemirror_mode": {
    "name": "ipython",
    "version": 3
   },
   "file_extension": ".py",
   "mimetype": "text/x-python",
   "name": "python",
   "nbconvert_exporter": "python",
   "pygments_lexer": "ipython3",
   "version": "3.9.7"
  }
 },
 "nbformat": 4,
 "nbformat_minor": 2
}
