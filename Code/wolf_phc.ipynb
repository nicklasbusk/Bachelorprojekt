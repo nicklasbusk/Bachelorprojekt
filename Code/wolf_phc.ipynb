{
 "cells": [
  {
   "cell_type": "code",
   "execution_count": null,
   "metadata": {},
   "outputs": [],
   "source": [
    "import random\n",
    "import numpy as np\n",
    "from scipy.optimize import minimize\n",
    "import matplotlib.pyplot as plt\n",
    "from numba import njit, prange\n",
    "import matplotlib.ticker as ticker\n",
    "from matplotlib.ticker import FormatStrFormatter\n",
    "from WoLF_lib import *"
   ]
  },
  {
   "cell_type": "markdown",
   "metadata": {},
   "source": [
    "# Single run of WoLF-PHC"
   ]
  },
  {
   "cell_type": "code",
   "execution_count": null,
   "metadata": {},
   "outputs": [],
   "source": [
    "avg1, avg2, p_t = WoLF_PHC(0.3, 0.6, 0.2, 0.95, np.linspace(0,1,7), 500000)\n",
    "edgew, focalp, t = edge_or_focal(0,0, p_t)\n",
    "\n"
   ]
  },
  {
   "cell_type": "code",
   "execution_count": null,
   "metadata": {},
   "outputs": [],
   "source": [
    "x_values = range(len(avg2))\n",
    "\n",
    "# Plot the array as a line graph\n",
    "plt.plot(x_values, avg1)\n",
    "plt.plot(x_values, avg2)\n",
    "\n",
    "# Add labels and title\n",
    "plt.xlabel('thousands')\n",
    "plt.ylabel('Profitability')\n",
    "plt.title('WoLF-PHC vs. WoLF-PHC')\n",
    "plt.legend(['Player 1', 'Player 2'])\n",
    "\n",
    "# Display the graph\n",
    "plt.show()"
   ]
  },
  {
   "cell_type": "markdown",
   "metadata": {},
   "source": [
    "# Profitability\n"
   ]
  },
  {
   "cell_type": "code",
   "execution_count": null,
   "metadata": {},
   "outputs": [],
   "source": [
    "avg_prof, avg_prof_gain, edge, focal= run_sim_wolf(100, np.linspace(0,1,7))"
   ]
  },
  {
   "cell_type": "code",
   "execution_count": null,
   "metadata": {},
   "outputs": [],
   "source": [
    "print(\"Edgeworth price cycles: \", edge)\n",
    "print(\"Focal pricing: \", focal)"
   ]
  },
  {
   "cell_type": "code",
   "execution_count": null,
   "metadata": {},
   "outputs": [],
   "source": [
    "fig, axs = plt.subplots(1, 1, figsize=(9,3))\n",
    "fig.suptitle(\"Average 2-player per-firm profitability in {} different runs, k={}\".format(10, 6))\n",
    "axs.set_xlabel(\"t\")\n",
    "axs.set_ylabel(\"profitability\")\n",
    "xs = np.linspace(0, 500000, 499)\n",
    "axs.set_ylim(0.00, 0.125+(0.125*0.05))\n",
    "axs.hlines(0.125, xmin=xs[0], xmax=xs[-1], colors='red', linestyles='dashed', label='Joint profit maximizing')\n",
    "axs.hlines(0.0611, xmin=xs[0], xmax=xs[-1], colors='blue', linestyles='dashed', label='Comp Benchmark')#konstant taget fra johanne og morten\n",
    "axs.plot(xs, avg_prof, color=\"steelblue\", label = \"avg. profitability\")\n",
    "axs.legend()  # Show the legend to display the label of the newly added line\n",
    "plt.show()"
   ]
  },
  {
   "cell_type": "code",
   "execution_count": null,
   "metadata": {},
   "outputs": [],
   "source": [
    "avg_prof[498]"
   ]
  },
  {
   "cell_type": "markdown",
   "metadata": {},
   "source": [
    "# Price cycles"
   ]
  },
  {
   "cell_type": "code",
   "execution_count": null,
   "metadata": {},
   "outputs": [],
   "source": [
    "b, c, p= WoLF_PHC(0.3, 0.6, 0.2, 0.95, np.linspace(0,1,49), 500000)\n",
    "p1 = p[0,499950:500000]\n",
    "p2 = p[1,499950:500000]\n",
    "\n",
    "plt.figure(figsize=(12, 3))\n",
    "p0s2d = p1[np.arange(0, p1.size, 2)][:-1]\n",
    "p1s2d = p2[np.arange(1, p2.size, 2)][:-1]\n",
    "\n",
    "plt.xlabel(\"t\")\n",
    "plt.ylabel(\"price\")\n",
    "plt.plot(range(0, 48, 2), p0s2d , label=\"firm 0 prices\", marker=\"o\", color=\"yellowgreen\", linestyle=\"dotted\")\n",
    "plt.plot(range(1, 48, 2), p1s2d, label=\"firm 1 prices\", marker=\"o\", color=\"purple\", linestyle=\"dotted\")\n",
    "plt.legend(loc='center left', bbox_to_anchor=(1, 0.5))"
   ]
  },
  {
   "cell_type": "markdown",
   "metadata": {},
   "source": [
    "# Forced deviation"
   ]
  },
  {
   "cell_type": "code",
   "execution_count": null,
   "metadata": {},
   "outputs": [],
   "source": [
    "Monk, profits, avg_2pp1,avg2pp2,avg_profitabilities= run_sim_wolf_FD(100,7)"
   ]
  },
  {
   "cell_type": "code",
   "execution_count": null,
   "metadata": {},
   "outputs": [],
   "source": [
    "MAnkA = Monk[0,::2]\n",
    "MAnkaB = Monk[1,::2]"
   ]
  },
  {
   "cell_type": "markdown",
   "metadata": {},
   "source": [
    "### Average price"
   ]
  },
  {
   "cell_type": "code",
   "execution_count": null,
   "metadata": {},
   "outputs": [],
   "source": [
    "xvalues = range(len(MAnkA[249965:249985]))\n",
    "#print(p2)\n",
    "#print(new)\n",
    "# Plot the array as a line graph\n",
    "plt.figure(figsize=(12, 3))\n",
    "plt.plot(range(1,len(xvalues)*2,2), MAnkA[249965:249985], marker=\"o\", linestyle='dotted')\n",
    "plt.plot(range(0,len(xvalues)*2,2), MAnkaB[249965:249985], marker=\"o\", linestyle='dotted')\n",
    "#plt.plot(xvalues, p2, marker=\"o\", linestyle='dotted')\n",
    "\n",
    "# Add labels and title\n",
    "plt.grid()\n",
    "plt.xlabel('t')\n",
    "plt.ylabel('Avg. price')\n",
    "plt.title('Price before and after forced deviation')\n",
    "plt.legend(['Player 1 prices', 'Player 2 prices'], bbox_to_anchor=(1,0.5), loc='center left')\n",
    "\n",
    "# Display the graph\n",
    "plt.show()"
   ]
  },
  {
   "cell_type": "markdown",
   "metadata": {},
   "source": [
    "### Average Two-Period Profit"
   ]
  },
  {
   "cell_type": "code",
   "execution_count": null,
   "metadata": {},
   "outputs": [],
   "source": [
    "zoom1 = avg_profitabilities[0,249965:249985]\n",
    "zoom2 = avg_profitabilities[1,249965:249985]\n",
    "#print(\"Last 50 prices for player 1: \\n\", p1)\n",
    "#print(\"Last 50 prices for player 2: \\n\", p2)\n",
    "\n",
    "\n",
    "xvalues = range(len(zoom1))\n",
    "plt.figure(figsize=(12, 3))\n",
    "# Plot the array as a line graph\n",
    "plt.plot(range(1,len(xvalues)*2,2), zoom1, marker=\"o\", linestyle='dotted')\n",
    "plt.plot(range(2,len(xvalues)*2+1,2), zoom2, marker=\"o\", linestyle='dotted')\n",
    "\n",
    "# Add labels and title\n",
    "plt.xlabel('t')\n",
    "plt.ylabel('Profit')\n",
    "plt.title('Profit of last 50 iterations')\n",
    "plt.legend(['Player 1 prices', 'Player 2 prices'], bbox_to_anchor=(1,0.5), loc='center left')\n",
    "\n",
    "# Display the graph\n",
    "plt.show()"
   ]
  },
  {
   "cell_type": "markdown",
   "metadata": {},
   "source": [
    "### Average market price"
   ]
  },
  {
   "cell_type": "code",
   "execution_count": null,
   "metadata": {},
   "outputs": [],
   "source": [
    "p1 = Monk[0,499940:499960]\n",
    "p2 = Monk[1,499940:499960]\n",
    "\n",
    "\n",
    "new=[]\n",
    "for i in range(len(p1)):\n",
    "    res=(p1[i]+p2[i])/2\n",
    "    new.append(res)\n",
    "\n",
    "xvalues = range(len(new))\n",
    "plt.figure(figsize=(12, 3))\n",
    "\n",
    "# Plot the array as a line graph\n",
    "plt.plot(xvalues, new, marker=\"o\", linestyle='dotted')\n",
    "\n",
    "\n",
    "# Add labels and title\n",
    "plt.xlabel('t')\n",
    "plt.ylabel('Price')\n",
    "plt.title('Price of last 50 iterations')\n",
    "plt.legend(['Player 1 prices', 'Player 2 prices'], bbox_to_anchor=(1,0.5), loc='center left')\n",
    "\n",
    "# Display the graph\n",
    "plt.show()"
   ]
  },
  {
   "cell_type": "markdown",
   "metadata": {},
   "source": [
    "## Assymetric information"
   ]
  },
  {
   "cell_type": "code",
   "execution_count": null,
   "metadata": {},
   "outputs": [],
   "source": [
    "a,b,c=WoLF_PHC_asym(0.3, 0.6, 0.2, 0.95, np.linspace(0,1,7), 500000, 0.2)"
   ]
  },
  {
   "cell_type": "code",
   "execution_count": null,
   "metadata": {},
   "outputs": [],
   "source": [
    "x_values = range(len(b))\n",
    "\n",
    "# Plot the array as a line graph\n",
    "plt.plot(x_values, a)\n",
    "plt.plot(x_values, b)\n",
    "\n",
    "# Add labels and title\n",
    "plt.xlabel('thousands')\n",
    "plt.ylabel('Profitability')\n",
    "plt.title('WoLF-PHC vs. WoLF-PHC')\n",
    "plt.legend(['Player 1', 'Player 2'])\n",
    "\n",
    "# Display the graph\n",
    "plt.show()"
   ]
  },
  {
   "cell_type": "code",
   "execution_count": null,
   "metadata": {},
   "outputs": [],
   "source": [
    "avg_prof_asym, avg_prof_gain_asym, edge_asym, focal_saym = run_sim_wolf_asym(100, np.linspace(0,1,7), mu=0.2)"
   ]
  },
  {
   "cell_type": "code",
   "execution_count": null,
   "metadata": {},
   "outputs": [],
   "source": [
    "avg_prof_asym[498]"
   ]
  },
  {
   "cell_type": "code",
   "execution_count": null,
   "metadata": {},
   "outputs": [],
   "source": [
    "fig, axs = plt.subplots(1, 1, figsize=(9,3))\n",
    "fig.suptitle(\"Average 2-player per-firm profitability in {} different runs, k={}, mu={}\".format(10, 6, 0.025))\n",
    "axs.set_xlabel(\"t\")\n",
    "axs.set_ylabel(\"profitability\")\n",
    "xs = np.linspace(0, 500000, 499)\n",
    "axs.set_ylim(0.00, 0.125+(0.125*0.05))\n",
    "axs.hlines(0.125, xmin=xs[0], xmax=xs[-1], colors='red', linestyles='dashed', label='Joint profit maximizing')\n",
    "axs.hlines(0.0611, xmin=xs[0], xmax=xs[-1], colors='blue', linestyles='dashed', label='Comp Benchmark')#konstant taget fra johanne og morten\n",
    "axs.plot(xs, avg_prof, color=\"steelblue\", label = \"avg. profitability\")\n",
    "axs.plot(xs, avg_prof_asym, color=\"red\", label = \"avg. profitability asymmetric\")\n",
    "axs.legend()  # Show the legend to display the label of the newly added line\n",
    "plt.show()"
   ]
  },
  {
   "cell_type": "code",
   "execution_count": 10,
   "metadata": {},
   "outputs": [
    {
     "data": {
      "text/plain": [
       "0.10968280022446793"
      ]
     },
     "execution_count": 10,
     "metadata": {},
     "output_type": "execute_result"
    }
   ],
   "source": [
    "avg_prof_asym[498]"
   ]
  },
  {
   "cell_type": "code",
   "execution_count": 11,
   "metadata": {},
   "outputs": [
    {
     "data": {
      "image/png": "[encoded data removed]",
      "text/plain": [
       "<Figure size 900x300 with 1 Axes>"
      ]
     },
     "metadata": {},
     "output_type": "display_data"
    }
   ],
   "source": [
    "fig, axs = plt.subplots(1, 1, figsize=(9,3))\n",
    "fig.suptitle(\"Average 2-player per-firm profitability in {} different runs, k={}\".format(10, 6))\n",
    "axs.set_xlabel(\"t\")\n",
    "axs.set_ylabel(\"profitability\")\n",
    "xs = np.linspace(0, 500000, 499)\n",
    "axs.set_ylim(0.00, 0.125+(0.125*0.05))\n",
    "axs.hlines(0.125, xmin=xs[0], xmax=xs[-1], colors='red', linestyles='dashed', label='Joint profit maximizing')\n",
    "axs.hlines(0.0611, xmin=xs[0], xmax=xs[-1], colors='blue', linestyles='dashed', label='Comp Benchmark/edgeworth cycle')#konstant taget fra johanne og morten\n",
    "axs.plot(xs, avg_prof, color=\"steelblue\", label = \"avg. profitability\")\n",
    "axs.plot(xs, avg_prof_asym, color=\"red\", label = \"avg. profitability Asym\")\n",
    "axs.legend()  # Show the legend to display the label of the newly added line\n",
    "plt.show()"
   ]
  },
  {
   "cell_type": "code",
   "execution_count": 12,
   "metadata": {},
   "outputs": [
    {
     "data": {
      "text/plain": [
       "0.10968280022446793"
      ]
     },
     "execution_count": 12,
     "metadata": {},
     "output_type": "execute_result"
    }
   ],
   "source": [
    "avg_prof_asym[498]"
   ]
  },
  {
   "cell_type": "code",
   "execution_count": 13,
   "metadata": {},
   "outputs": [
    {
     "data": {
      "text/plain": [
       "0.11021141975308733"
      ]
     },
     "execution_count": 13,
     "metadata": {},
     "output_type": "execute_result"
    }
   ],
   "source": [
    "avg_prof[498]"
   ]
  },
  {
   "cell_type": "code",
   "execution_count": null,
   "metadata": {},
   "outputs": [],
   "source": []
  },
  {
   "cell_type": "code",
   "execution_count": null,
   "metadata": {},
   "outputs": [],
   "source": []
  }
 ],
 "metadata": {
  "kernelspec": {
   "display_name": "base",
   "language": "python",
   "name": "python3"
  },
  "language_info": {
   "codemirror_mode": {
    "name": "ipython",
    "version": 3
   },
   "file_extension": ".py",
   "mimetype": "text/x-python",
   "name": "python",
   "nbconvert_exporter": "python",
   "pygments_lexer": "ipython3",
   "version": "3.9.7"
  }
 },
 "nbformat": 4,
 "nbformat_minor": 2
}
