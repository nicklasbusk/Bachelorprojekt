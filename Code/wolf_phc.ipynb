{
 "cells": [
  {
   "cell_type": "code",
   "execution_count": 1,
   "metadata": {},
   "outputs": [],
   "source": [
    "import random\n",
    "import numpy as np\n",
    "from scipy.optimize import minimize\n",
    "import matplotlib.pyplot as plt\n",
    "from numba import njit, prange\n",
    "import matplotlib.ticker as ticker\n",
    "from matplotlib.ticker import FormatStrFormatter\n",
    "from lib import *"
   ]
  },
  {
   "cell_type": "code",
   "execution_count": 2,
   "metadata": {},
   "outputs": [],
   "source": [
    "@njit\n",
    "def select_price_WoLF(epsilon, price_grid, current_state, policy):\n",
    "    u = np.random.uniform(0,1)\n",
    "    if epsilon > u:\n",
    "        return np.random.choice(price_grid)\n",
    "    else:\n",
    "        cumsum = np.cumsum(policy[np.where(price_grid == current_state)[0][0], :])\n",
    "        idx = np.searchsorted(cumsum, np.array([u]))[0]\n",
    "        return price_grid[idx]"
   ]
  },
  {
   "cell_type": "code",
   "execution_count": 3,
   "metadata": {},
   "outputs": [],
   "source": [
    "@njit\n",
    "def WoLF_PHC(alpha, delta, gamma, price_grid, T):\n",
    "    # Initializing values\n",
    "    epsilon = calculate_epsilon(T)\n",
    "    #print(epsilon)\n",
    "    i = 0\n",
    "    j = 1\n",
    "    t = 0\n",
    "    # Initializing Q-functions\n",
    "    k = len(price_grid)\n",
    "    q1 = np.zeros((k, k)) \n",
    "    q2 = np.zeros((k, k)) \n",
    "    # Initializing policies\n",
    "    policy_1 = np.ones((k, k)) / k\n",
    "    policy_2 = np.ones((k, k)) / k\n",
    "    # Initializing average policies\n",
    "    avg_policy1 = np.ones((k, k)) / k\n",
    "    avg_policy2 = np.ones((k, k)) / k\n",
    "    # Initializing N, a counter\n",
    "    N1 = np.zeros(k)\n",
    "    N2 = np.zeros(k)\n",
    "    # Initializing profits\n",
    "    p_table = np.zeros((2,T))\n",
    "    profits = np.zeros((2,T))\n",
    "    avg_profs1 = []\n",
    "    avg_profs2 = []\n",
    "\n",
    "    # Setting random price and state for t = 0\n",
    "    p_table[i,t] = np.random.choice(price_grid)\n",
    "    p_table[j,t] = np.random.choice(price_grid)\n",
    "    \n",
    "    t += 1\n",
    "    # Setting random price and state for t = 1\n",
    "    p_table[i,t] = np.random.choice(price_grid)\n",
    "    p_table[j,t] = np.random.choice(price_grid)\n",
    "\n",
    "    for t in range(t, T-1):\n",
    "        p_table[i,t] = p_table[i,t-1]\n",
    "        profits[i,t] = profit(p_table[i,t], p_table[j,t-1])\n",
    "        profits[i,t+1] = profit(p_table[i,t], p_table[j,t])\n",
    "        r_t = profits[i,t] + gamma * profits[i,t+1]\n",
    "        p_idx = np.where(price_grid == p_table[i,t])[0][0]\n",
    "        s_next_idx = np.where(price_grid == p_table[j,t])[0][0]\n",
    "        current_state_idx = np.where(price_grid == p_table[j,t-1])[0][0]\n",
    "        max_Q = max(q1[s_next_idx, :])\n",
    "        q1[current_state_idx, p_idx] = q1[current_state_idx, p_idx] + alpha * (r_t + gamma**2 * max_Q - q1[current_state_idx, p_idx])\n",
    "        # Update counter for visited state\n",
    "        N1[current_state_idx] += 1\n",
    "        # Update policy\n",
    "        #print(avg_policy1[current_state_idx, :])\n",
    "        avg_policy1[current_state_idx, :] = avg_policy1[current_state_idx, :] + (1 / N1[current_state_idx]) * (policy_1[current_state_idx, :] - avg_policy1[current_state_idx, :])\n",
    "        avg_policy1[current_state_idx, :] /= avg_policy1[current_state_idx, :].sum() # To ensure a legal probability distribution\n",
    "            \n",
    "        if np.sum(q1[current_state_idx, :] * policy_1[current_state_idx, :]) > np.sum(q1[current_state_idx, :] * avg_policy1[current_state_idx, :]):\n",
    "            delta_now = delta[0]\n",
    "        else:\n",
    "            delta_now = delta[1]\n",
    "        #p_max_idx=np.argmax(q1[current_state_idx, :])\n",
    "        #delta_sa = np.zeros(k)\n",
    "        \n",
    "        delta_sa = np.zeros(k) - delta_now / (k - 1)\n",
    "        p_max_idx = np.argmax(q1[current_state_idx, :])\n",
    "        delta_sa[p_max_idx] = - (delta_sa.sum() - delta_sa[p_max_idx])\n",
    "        policy_1[current_state_idx, :] += delta_sa\n",
    "        policy_1[current_state_idx, :] = np.minimum(1, np.maximum(policy_1[current_state_idx, :], 0))\n",
    "        policy_1[current_state_idx, :] /= policy_1[current_state_idx, :].sum()\n",
    "        p_table[i,t+1] = select_price_WoLF(epsilon[t], price_grid, p_table[j,t], policy_1)\n",
    "        profits[i, t] = profit(p_table[i,t], p_table[j,t])\n",
    "        profits[j, t] = profit(p_table[j,t], p_table[i,t])\n",
    "         # Compute profits\n",
    "        if t % 1000 == 0:\n",
    "            profitability = np.sum(profits[i, (t-1000):t])/1000\n",
    "            avg_profs1.append(profitability)\n",
    "            profitability = np.sum(profits[j, (t-1000):t])/1000\n",
    "            avg_profs2.append(profitability)\n",
    "        i,j=j,i\n",
    "        q1,q2=q2,q1\n",
    "        policy_1,policy_2=policy_2,policy_1\n",
    "        avg_policy1,avg_policy2=avg_policy2,avg_policy1\n",
    "        N1,N2=N2,N1\n",
    "         \n",
    "    return avg_profs1, avg_profs2\n",
    "\n",
    "            \n",
    "\n",
    "\n",
    "\n",
    "\n"
   ]
  },
  {
   "cell_type": "code",
   "execution_count": 11,
   "metadata": {},
   "outputs": [],
   "source": [
    "k=6\n",
    "p_grid=np.round(np.arange(k + 1) / (np.zeros(k + 1) + k), 3)\n",
    "prof1,prof2=WoLF_PHC(0.3, (0.2,0.6), 0.95, p_grid, 500000)    "
   ]
  },
  {
   "cell_type": "code",
   "execution_count": 12,
   "metadata": {},
   "outputs": [
    {
     "data": {
      "image/png": "[encoded data removed]",
      "text/plain": [
       "<Figure size 432x288 with 1 Axes>"
      ]
     },
     "metadata": {
      "needs_background": "light"
     },
     "output_type": "display_data"
    }
   ],
   "source": [
    "x_values = range(len(prof1))\n",
    "\n",
    "# Plot the array as a line graph\n",
    "plt.plot(x_values, prof1)\n",
    "plt.plot(x_values, prof2)\n",
    "\n",
    "# Add labels and title\n",
    "plt.xlabel('thousands')\n",
    "plt.ylabel('Profitability')\n",
    "plt.title('Array Graph')\n",
    "plt.legend(['Player 1', 'Player 2'])\n",
    "\n",
    "# Display the graph\n",
    "plt.show()"
   ]
  },
  {
   "cell_type": "code",
   "execution_count": 13,
   "metadata": {},
   "outputs": [],
   "source": [
    "#@njit\n",
    "def run_sim_wolfphc(runs, k, method='klein'):\n",
    "    \n",
    "    num_calcs=int(500000/1000-1)\n",
    "    summed_avg_profitabilities = np.zeros(num_calcs)\n",
    "    for n in range(0, runs):\n",
    "        avg_profs1, avg_profs2 = WoLF_PHC(0.3, (0.2,0.6), 0.95, k, 500000)\n",
    "        per_firm_profit = np.sum([avg_profs1, avg_profs2], axis=0)/2\n",
    "        summed_avg_profitabilities = np.sum([summed_avg_profitabilities, per_firm_profit], axis=0)\n",
    "\n",
    "    avg_avg_profitabilities = np.divide(summed_avg_profitabilities, runs)\n",
    "    return avg_avg_profitabilities"
   ]
  },
  {
   "cell_type": "code",
   "execution_count": 14,
   "metadata": {},
   "outputs": [],
   "source": [
    "avg_prof= run_sim_wolfphc(100, np.linspace(0,1,7))"
   ]
  },
  {
   "cell_type": "code",
   "execution_count": 15,
   "metadata": {},
   "outputs": [
    {
     "data": {
      "image/png": "[encoded data removed]",
      "text/plain": [
       "<Figure size 648x216 with 1 Axes>"
      ]
     },
     "metadata": {
      "needs_background": "light"
     },
     "output_type": "display_data"
    }
   ],
   "source": [
    "fig, axs = plt.subplots(1, 1, figsize=(9,3))\n",
    "fig.suptitle(\"Average 2-player per-firm profitability in {} different runs, k={}\".format(10, 6))\n",
    "axs.set_xlabel(\"t\")\n",
    "axs.set_ylabel(\"profitability\")\n",
    "xs = np.linspace(0, 500000, 499)\n",
    "axs.set_ylim(0.00, 0.125+(0.125*0.05))\n",
    "axs.hlines(0.125, xmin=xs[0], xmax=xs[-1], colors='red', linestyles='dashed', label='Joint profit maximizing')\n",
    "axs.hlines(0.0611, xmin=xs[0], xmax=xs[-1], colors='blue', linestyles='dashed', label='Comp Benchmark/edgeworth cycle')#konstant taget fra johanne og morten\n",
    "axs.plot(xs, avg_prof, color=\"steelblue\", label = \"avg. profitability\")\n",
    "axs.legend()  # Show the legend to display the label of the newly added line\n",
    "plt.show()"
   ]
  },
  {
   "cell_type": "code",
   "execution_count": 29,
   "metadata": {},
   "outputs": [
    {
     "data": {
      "text/plain": [
       "0.1070138888888899"
      ]
     },
     "execution_count": 29,
     "metadata": {},
     "output_type": "execute_result"
    }
   ],
   "source": [
    "avg_prof[498]"
   ]
  },
  {
   "cell_type": "code",
   "execution_count": null,
   "metadata": {},
   "outputs": [],
   "source": []
  },
  {
   "cell_type": "markdown",
   "metadata": {},
   "source": [
    "# Q-learning vs WolF-PHC"
   ]
  },
  {
   "cell_type": "code",
   "execution_count": 16,
   "metadata": {},
   "outputs": [],
   "source": [
    "@njit\n",
    "def Q_func(p_curr_idx, s_curr_idx, i, j, t, alpha, delta, p_table, Q_table, price_grid, s_next) -> float: # p_table contains p and s (opponent price)\n",
    "    \"\"\"\n",
    "    args:\n",
    "        p_curr_idx: current price of player i\n",
    "        s_curr_idx: current state of player i\n",
    "        i: player 0\n",
    "        j: player 1\n",
    "        t: current period\n",
    "        alpha: step-size parameter\n",
    "        delta: discount factor\n",
    "        p_table: 2x500.000 array storing prices for player 0 and 1\n",
    "        Q_table: current Q_table for player i\n",
    "        price_grid: price_grid\n",
    "        s_next: next state for player i\n",
    "    returns:\n",
    "        updated value for Q_table \n",
    "    \"\"\"\n",
    "    prev_est = Q_table[p_curr_idx, s_curr_idx]\n",
    "    s_next_index=np.where(price_grid == s_next)[0][0]\n",
    "    maxed_Q = max(Q_table[s_next_index,:])\n",
    "    new_est = profit(p_table[i, t], p_table[j, t-1]) + delta * profit(p_table[i, t], s_next) + delta**2 * maxed_Q\n",
    "    return (1 - alpha) * prev_est + alpha * new_est\n",
    "\n",
    "    "
   ]
  },
  {
   "cell_type": "code",
   "execution_count": 17,
   "metadata": {},
   "outputs": [],
   "source": [
    "\n",
    "#@njit\n",
    "def WoLF_PHC_vs_Q_learner(alpha, delta, gamma, price_grid, T):\n",
    "    # Initializing values\n",
    "    epsilon = calculate_epsilon(T)\n",
    "    #print(epsilon)\n",
    "    i = 0\n",
    "    j = 1\n",
    "    t = 0\n",
    "    # Initializing Q-functions\n",
    "    k = len(price_grid)\n",
    "    q1 = np.zeros((k, k)) \n",
    "    q2 = np.zeros((k, k)) \n",
    "    # Initializing policies\n",
    "    policy_1 = np.ones((k, k)) / k\n",
    "    # Initializing average policies\n",
    "    avg_policy1 = np.ones((k, k)) / k\n",
    "    # Initializing N, a counter\n",
    "    N1 = np.zeros(k)\n",
    "    # Initializing profits\n",
    "    p_table = np.zeros((2,T))\n",
    "    profits = np.zeros((2,T))\n",
    "    avg_profs1 = []\n",
    "    avg_profs2 = []\n",
    "\n",
    "    # Setting random price and state for t = 0\n",
    "    p_table[i,t] = np.random.choice(price_grid)\n",
    "    p_table[j,t] = np.random.choice(price_grid)\n",
    "    \n",
    "    t += 1\n",
    "    # Setting random price and state for t = 1\n",
    "    p_table[i,t] = np.random.choice(price_grid)\n",
    "    p_table[j,t] = np.random.choice(price_grid)\n",
    "    method='WoLF-PHC'\n",
    "    for t in range(t, T-1):\n",
    "        if method=='WoLF-PHC':\n",
    "            i=0\n",
    "            j=1\n",
    "\n",
    "            p_table[i,t] = p_table[i,t-1]\n",
    "            profits[i,t] = profit(p_table[i,t], p_table[j,t-1])\n",
    "            profits[i,t+1] = profit(p_table[i,t], p_table[j,t])\n",
    "            r_t = profits[i,t] + gamma * profits[i,t+1]\n",
    "            p_idx = np.where(price_grid == p_table[i,t])[0][0]\n",
    "            s_next_idx = np.where(price_grid == p_table[j,t])[0][0]\n",
    "            current_state_idx = np.where(price_grid == p_table[j,t-1])[0][0]\n",
    "            max_Q = max(q1[s_next_idx, :])\n",
    "            q1[current_state_idx, p_idx] = q1[current_state_idx, p_idx] + alpha * (r_t + gamma**2 * max_Q - q1[current_state_idx, p_idx])\n",
    "            # Update counter for visited state\n",
    "            N1[current_state_idx] += 1\n",
    "            # Update policy\n",
    "            avg_policy1[current_state_idx, :] = avg_policy1[current_state_idx, :] + (1 / N1[current_state_idx]) * (policy_1[current_state_idx, :] - avg_policy1[current_state_idx, :])\n",
    "            avg_policy1[current_state_idx, :] /= avg_policy1[current_state_idx, :].sum() # To ensure a legal probability distribution\n",
    "                \n",
    "            if np.sum(q1[current_state_idx, :] * policy_1[current_state_idx, :]) > np.sum(q1[current_state_idx, :] * avg_policy1[current_state_idx, :]):\n",
    "                delta_now = delta[0]\n",
    "            else:\n",
    "                delta_now = delta[1]\n",
    "\n",
    "\n",
    "            delta_sa = np.zeros(k) - delta_now / (k - 1)\n",
    "            p_max_idx = np.argmax(q1[current_state_idx, :])\n",
    "            delta_sa[p_max_idx] = - (delta_sa.sum() - delta_sa[p_max_idx])\n",
    "            policy_1[current_state_idx, :] += delta_sa\n",
    "            policy_1[current_state_idx, :] = np.minimum(1, np.maximum(policy_1[current_state_idx, :], 0))\n",
    "            policy_1[current_state_idx, :] /= policy_1[current_state_idx, :].sum()\n",
    "            p_table[i,t+1] = select_price_WoLF(epsilon[t], price_grid, p_table[j,t], policy_1)\n",
    "            #print(profits[i, t])\n",
    "            profits[i, t] = profit(p_table[i,t], p_table[j,t])\n",
    "            profits[j, t] = profit(p_table[j,t], p_table[i,t])\n",
    "            method='klein'\n",
    "            \n",
    "\n",
    "        else:\n",
    "            i=1\n",
    "            j=0\n",
    "\n",
    "            # Q-learning\n",
    "            p_table[i,t] = p_table[i,t-1]\n",
    "            p_idx = np.where(price_grid == p_table[i,t])[0][0]\n",
    "            s_next = p_table[j,t-1]\n",
    "            #print(s_next)\n",
    "            #s_next_idx = np.where(price_grid == s_next)[0][0]\n",
    "            current_state_idx = np.where(price_grid == p_table[j,t-2])[0][0]\n",
    "            q2[p_idx, current_state_idx] = Q_func(p_idx, current_state_idx, i,j, t, alpha, gamma, p_table, q2, price_grid, s_next)\n",
    "\n",
    "            p_table[i, t] = select_price(j, t, p_table, q2, price_grid, epsilon[t])\n",
    "            p_table[j, t] = p_table[j, t-1]\n",
    "\n",
    "            # Store profits for both firms\n",
    "            profits[i, t] = profit(p_table[i,t], p_table[j,t])\n",
    "            profits[j, t] = profit(p_table[j,t], p_table[i,t])\n",
    "            method='WoLF-PHC'  \n",
    "         # compute avg profitability of last 1000 runs for both firms\n",
    "        if t % 1000 == 0:\n",
    "            profitability = np.sum(profits[i, (t-1000):t])/1000\n",
    "            avg_profs1.append(profitability)\n",
    "            profitability = np.sum(profits[j, (t-1000):t])/1000\n",
    "            avg_profs2.append(profitability)\n",
    "\n",
    "           \n",
    "    return q1, q2, avg_profs1, avg_profs2, p_table\n",
    "\n",
    "            \n",
    "\n"
   ]
  },
  {
   "cell_type": "code",
   "execution_count": 18,
   "metadata": {},
   "outputs": [],
   "source": [
    "@njit\n",
    "def select_price(j, t, p_table, Q_table, price_grid, epsilon):\n",
    "    \"\"\"\n",
    "    args:\n",
    "        j: player 1\n",
    "        t: current period\n",
    "        p_table: 2x500.000 array storing prices for player 0 and 1\n",
    "        Q_table: current Q_table\n",
    "        price_grid: price_grid\n",
    "        epsilon: decay parameter of learning module\n",
    "    returns:\n",
    "        random price or maximized price\n",
    "    \"\"\"\n",
    "    # Exploration\n",
    "    if epsilon >= np.random.uniform(0,1):\n",
    "        return np.random.choice(price_grid)\n",
    "    else:\n",
    "    # Exploitation\n",
    "        s_t_idx = np.where(price_grid == p_table[j, t])[0][0] # current state (opponent's price)\n",
    "        maxedQ_idx = np.argmax(Q_table[:, s_t_idx])\n",
    "        return price_grid[maxedQ_idx]"
   ]
  },
  {
   "cell_type": "code",
   "execution_count": 19,
   "metadata": {},
   "outputs": [],
   "source": [
    "@njit\n",
    "def Q_func(p_curr_idx, s_curr_idx, i, j, t, alpha, delta, p_table, Q_table, price_grid, s_next) -> float: # p_table contains p and s (opponent price)\n",
    "    \"\"\"\n",
    "    args:\n",
    "        p_curr_idx: current price of player i\n",
    "        s_curr_idx: current state of player i\n",
    "        i: player 0\n",
    "        j: player 1\n",
    "        t: current period\n",
    "        alpha: step-size parameter\n",
    "        delta: discount factor\n",
    "        p_table: 2x500.000 array storing prices for player 0 and 1\n",
    "        Q_table: current Q_table for player i\n",
    "        price_grid: price_grid\n",
    "        s_next: next state for player i\n",
    "    returns:\n",
    "        updated value for Q_table \n",
    "    \"\"\"\n",
    "    prev_est = Q_table[p_curr_idx, s_curr_idx]\n",
    "    s_next_index=np.where(price_grid == s_next)[0][0]\n",
    "    maxed_Q = max(Q_table[s_next_index,:])\n",
    "    new_est = profit(p_table[i, t-1], p_table[j, t-1]) + delta * profit(p_table[i, t-1], s_next) + delta**2 * maxed_Q\n",
    "    return (1 - alpha) * prev_est + alpha * new_est\n",
    "\n",
    "    "
   ]
  },
  {
   "cell_type": "code",
   "execution_count": 51,
   "metadata": {},
   "outputs": [],
   "source": [
    "\n",
    "@njit\n",
    "def WoLF_PHC_vs_Q_learner2(alpha, delta, gamma, price_grid, T):\n",
    "    # Initializing values\n",
    "    epsilon = calculate_epsilon(T)\n",
    "    #print(epsilon)\n",
    "    i = 0\n",
    "    j = 1\n",
    "    t = 0\n",
    "    # Initializing Q-functions\n",
    "    k = len(price_grid)\n",
    "    q1 = np.zeros((k, k)) \n",
    "    q2 = np.zeros((k, k)) \n",
    "    # Initializing policies\n",
    "    policy_1 = np.ones((k, k)) / k\n",
    "    # Initializing average policies\n",
    "    avg_policy1 = np.ones((k, k)) / k\n",
    "    # Initializing N, a counter\n",
    "    N1 = np.zeros(k)\n",
    "    # Initializing profits\n",
    "    p_table = np.zeros((2,T))\n",
    "    profits = np.zeros((2,T))\n",
    "    avg_profs1 = []\n",
    "    avg_profs2 = []\n",
    "\n",
    "    # Setting random price and state for t = 0\n",
    "    p_table[i,t+1] = np.random.choice(price_grid)\n",
    "    print(p_table[i,t])\n",
    "    p_table[j,t+1] = np.random.choice(price_grid)\n",
    "    \n",
    "    t += 1\n",
    "    # Setting random price and state for t = 1\n",
    "    p_table[i,t+1] = np.random.choice(price_grid)\n",
    "    #print(p_table[i,t])\n",
    "    p_table[j,t+1] = np.random.choice(price_grid)\n",
    "    method='WoLF-PHC'\n",
    "    for t in range(t, T-1):\n",
    "        if method=='WoLF-PHC':\n",
    "            p_table[i,t] = p_table[i,t-1]\n",
    "            profits[i,t] = profit(p_table[i,t], p_table[j,t-1])\n",
    "            profits[i,t+1] =  profit(p_table[i,t], p_table[j,t])\n",
    "\n",
    "            r_t = profits[i,t] + gamma * profits[i,t+1]\n",
    "            p_idx = np.where(price_grid == p_table[i,t])[0][0]\n",
    "            s_next_idx = np.where(price_grid == p_table[j,t])[0][0]\n",
    "            current_state_idx = np.where(price_grid == p_table[j,t-1])[0][0]\n",
    "            max_Q = max(q1[s_next_idx, :])\n",
    "            q1[current_state_idx, p_idx] = q1[current_state_idx, p_idx] + alpha * (r_t + gamma**2 * max_Q - q1[current_state_idx, p_idx])\n",
    "            # Update counter for visited state\n",
    "            N1[current_state_idx] += 1\n",
    "            # Update policy\n",
    "            avg_policy1[current_state_idx, :] = avg_policy1[current_state_idx, :] + (1 / N1[current_state_idx]) * (policy_1[current_state_idx, :] - avg_policy1[current_state_idx, :])\n",
    "            avg_policy1[current_state_idx, :] /= avg_policy1[current_state_idx, :].sum() # To ensure a legal probability distribution\n",
    "            \n",
    "            if np.sum(q1[current_state_idx, :] * policy_1[current_state_idx, :]) > np.sum(q1[current_state_idx, :] * avg_policy1[current_state_idx, :]):\n",
    "                delta_now = delta[0]\n",
    "            else:\n",
    "                delta_now = delta[1]\n",
    "\n",
    "            delta_sa = np.zeros(k) - delta_now / (k - 1)\n",
    "            p_max_idx = np.argmax(q1[current_state_idx, :])\n",
    "            delta_sa[p_max_idx] = - (delta_sa.sum() - delta_sa[p_max_idx])\n",
    "            policy_1[current_state_idx, :] += delta_sa\n",
    "            policy_1[current_state_idx, :] = np.minimum(1, np.maximum(policy_1[current_state_idx, :], 0))\n",
    "            policy_1[current_state_idx, :] /= policy_1[current_state_idx, :].sum()\n",
    "            #p_table[j,t+1] = p_table[j,t]\n",
    "            p_table[i,t] = select_price_WoLF(epsilon[t], price_grid, p_table[j,t], policy_1)\n",
    "            p_table[j,t] = p_table[j,t-1]\n",
    "\n",
    "            profits[i, t] = profit(p_table[i,t], p_table[j,t])\n",
    "            profits[j, t] = profit(p_table[j,t], p_table[i,t])\n",
    "            method='klein'\n",
    "\n",
    "            i=1\n",
    "            j=0\n",
    "\n",
    "        else:\n",
    "            # Q-learning\n",
    "            p_table[i,t] = p_table[i,t-1]\n",
    "            profits[i,t] = profit(p_table[i,t], p_table[j,t-1]) \n",
    "            profits[i,t+1] =  profit(p_table[i,t], p_table[j,t])\n",
    "            r_t = profits[i,t] + gamma * profits[i,t+1]\n",
    "\n",
    "            p_idx = np.where(price_grid == p_table[i,t])[0][0]\n",
    "            s_next_idx = np.where(price_grid == p_table[j,t])[0][0]\n",
    "            current_state_idx = np.where(price_grid == p_table[j,t-1])[0][0]\n",
    "            p_next = select_price(j, t, p_table, q2, p_grid, epsilon[t])\n",
    "            p_next_idx = np.where(price_grid == p_next)[0][0]\n",
    "            max_Q = q2[s_next_idx, p_next_idx]\n",
    "            q2[current_state_idx, p_idx] = q2[current_state_idx, p_idx] + alpha * (r_t + gamma**2 * max_Q - q2[current_state_idx, p_idx])\n",
    "            \n",
    "            p_table[i, t] = p_next\n",
    "            p_table[j, t] = p_table[j, t-1]\n",
    "\n",
    "            # Store profits for both firms\n",
    "            profits[i, t] = profit(p_table[i,t], p_table[j,t])\n",
    "            profits[j, t] = profit(p_table[j,t], p_table[i,t])\n",
    "            method='WoLF-PHC'  \n",
    "            i=0\n",
    "            j=1\n",
    "         # compute avg profitability of last 1000 runs for both firms\n",
    "        if t % 1000 == 0:\n",
    "            profitability = np.sum(profits[0, (t-1000):t])/1000\n",
    "            avg_profs1.append(profitability)\n",
    "            profitability = np.sum(profits[1, (t-1000):t])/1000\n",
    "            avg_profs2.append(profitability)\n",
    "        #print(p_table[0,t])\n",
    "           \n",
    "    return q1, q2, avg_profs1, avg_profs2, p_table, profits\n",
    "\n",
    "            \n",
    "\n"
   ]
  },
  {
   "cell_type": "code",
   "execution_count": 52,
   "metadata": {},
   "outputs": [
    {
     "name": "stdout",
     "output_type": "stream",
     "text": [
      "0.0\n"
     ]
    }
   ],
   "source": [
    "k=6\n",
    "p_grid=np.linspace(0,1,7)\n",
    "q1,q2,avg_prof1,avg_prof2,p_tab,_ = WoLF_PHC_vs_Q_learner2(0.3, (0.2,0.6), 0.95, p_grid, 500000)"
   ]
  },
  {
   "cell_type": "code",
   "execution_count": 59,
   "metadata": {},
   "outputs": [
    {
     "data": {
      "text/plain": [
       "array([[0.        , 0.        , 0.        , 0.        , 0.        ,\n",
       "        0.13888889, 0.06944444, 0.06944444, 0.13888889, 0.        ,\n",
       "        0.        , 0.        , 0.        , 0.        , 0.        ,\n",
       "        0.        , 0.        , 0.        , 0.06944444, 0.22222222],\n",
       "       [0.13888889, 0.        , 0.        , 0.        , 0.        ,\n",
       "        0.        , 0.06944444, 0.06944444, 0.        , 0.        ,\n",
       "        0.        , 0.        , 0.22222222, 0.        , 0.        ,\n",
       "        0.        , 0.13888889, 0.13888889, 0.06944444, 0.        ]])"
      ]
     },
     "execution_count": 59,
     "metadata": {},
     "output_type": "execute_result"
    }
   ],
   "source": [
    "_[:,10000:10020]"
   ]
  },
  {
   "cell_type": "code",
   "execution_count": 57,
   "metadata": {},
   "outputs": [
    {
     "data": {
      "text/plain": [
       "array([0.33333333, 0.        , 0.        , 0.        , 0.        ,\n",
       "       0.16666667, 0.16666667, 0.16666667, 0.16666667, 0.        ,\n",
       "       0.        , 0.66666667, 0.66666667, 0.        , 0.        ,\n",
       "       0.5       , 0.5       , 0.83333333, 0.83333333, 0.66666667])"
      ]
     },
     "execution_count": 57,
     "metadata": {},
     "output_type": "execute_result"
    }
   ],
   "source": [
    "p_tab[0, 10000:10020]"
   ]
  },
  {
   "cell_type": "code",
   "execution_count": 58,
   "metadata": {},
   "outputs": [
    {
     "data": {
      "text/plain": [
       "array([0.16666667, 0.16666667, 0.5       , 0.5       , 0.5       ,\n",
       "       0.5       , 0.16666667, 0.16666667, 1.        , 1.        ,\n",
       "       0.        , 0.        , 0.33333333, 0.33333333, 0.        ,\n",
       "       0.        , 0.16666667, 0.16666667, 0.83333333, 0.83333333])"
      ]
     },
     "execution_count": 58,
     "metadata": {},
     "output_type": "execute_result"
    }
   ],
   "source": [
    "p_tab[1, 10000:10020]\n",
    "\n"
   ]
  },
  {
   "cell_type": "code",
   "execution_count": 56,
   "metadata": {},
   "outputs": [
    {
     "data": {
      "image/png": "[encoded data removed]",
      "text/plain": [
       "<Figure size 432x288 with 1 Axes>"
      ]
     },
     "metadata": {
      "needs_background": "light"
     },
     "output_type": "display_data"
    }
   ],
   "source": [
    "x_values = range(len(avg_prof1))\n",
    "\n",
    "# Plot the array as a line graph\n",
    "plt.plot(x_values, avg_prof1)\n",
    "plt.plot(x_values, avg_prof2)\n",
    "\n",
    "# Add labels and title\n",
    "plt.xlabel('thousands')\n",
    "plt.ylabel('Profitability')\n",
    "plt.title('Array Graph')\n",
    "plt.legend(['Player 1', 'Player 2'])\n",
    "\n",
    "# Display the graph\n",
    "plt.show()"
   ]
  },
  {
   "cell_type": "code",
   "execution_count": null,
   "metadata": {},
   "outputs": [],
   "source": []
  }
 ],
 "metadata": {
  "kernelspec": {
   "display_name": "Python 3",
   "language": "python",
   "name": "python3"
  },
  "language_info": {
   "codemirror_mode": {
    "name": "ipython",
    "version": 3
   },
   "file_extension": ".py",
   "mimetype": "text/x-python",
   "name": "python",
   "nbconvert_exporter": "python",
   "pygments_lexer": "ipython3",
   "version": "3.9.7"
  }
 },
 "nbformat": 4,
 "nbformat_minor": 2
}
