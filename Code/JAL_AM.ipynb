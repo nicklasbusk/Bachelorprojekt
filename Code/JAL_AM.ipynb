{
 "cells": [
  {
   "cell_type": "markdown",
   "metadata": {},
   "source": [
    "# JAL-AM"
   ]
  },
  {
   "cell_type": "code",
   "execution_count": 1,
   "metadata": {},
   "outputs": [],
   "source": [
    "import random\n",
    "import numpy as np\n",
    "from scipy.optimize import minimize\n",
    "import matplotlib.pyplot as plt\n",
    "from numba import njit, prange\n",
    "import matplotlib.ticker as ticker\n",
    "from matplotlib.ticker import FormatStrFormatter\n",
    "from JAL_AM_lib import *"
   ]
  },
  {
   "cell_type": "code",
   "execution_count": 35,
   "metadata": {},
   "outputs": [
    {
     "data": {
      "text/plain": [
       "array([0.        , 0.16666667, 0.33333333, 0.5       , 0.66666667,\n",
       "       0.83333333, 1.        ])"
      ]
     },
     "execution_count": 35,
     "metadata": {},
     "output_type": "execute_result"
    }
   ],
   "source": [
    "pi_hat = np.ones((7, 7)) / 7\n",
    "price_grid = np.linspace(0,1, 7)\n",
    "counter = np.ones((7,7)) + 1 \n",
    "\n",
    "price_grid"
   ]
  },
  {
   "cell_type": "code",
   "execution_count": 43,
   "metadata": {},
   "outputs": [],
   "source": [
    "pi_hat = update_predictive_model(pi_hat, 3/6, 1, counter, price_grid)"
   ]
  },
  {
   "cell_type": "code",
   "execution_count": 44,
   "metadata": {},
   "outputs": [
    {
     "name": "stdout",
     "output_type": "stream",
     "text": [
      "[[0.14285714 0.14285714 0.14285714 0.14285714 0.14285714 0.14285714\n",
      "  0.14285714]\n",
      " [0.14285714 0.14285714 0.14285714 0.14285714 0.14285714 0.14285714\n",
      "  0.14285714]\n",
      " [0.14285714 0.14285714 0.14285714 0.14285714 0.14285714 0.14285714\n",
      "  0.14285714]\n",
      " [0.14285714 0.14285714 0.14285714 0.14285714 0.14285714 0.14285714\n",
      "  0.33333333]\n",
      " [0.14285714 0.14285714 0.14285714 0.14285714 0.14285714 0.14285714\n",
      "  0.14285714]\n",
      " [0.14285714 0.14285714 0.14285714 0.14285714 0.14285714 0.14285714\n",
      "  0.14285714]\n",
      " [0.14285714 0.14285714 0.14285714 0.14285714 0.14285714 0.14285714\n",
      "  0.14285714]]\n"
     ]
    }
   ],
   "source": [
    "print(pi_hat)"
   ]
  },
  {
   "cell_type": "code",
   "execution_count": null,
   "metadata": {},
   "outputs": [],
   "source": []
  },
  {
   "cell_type": "code",
   "execution_count": null,
   "metadata": {},
   "outputs": [],
   "source": []
  }
 ],
 "metadata": {
  "kernelspec": {
   "display_name": "base",
   "language": "python",
   "name": "python3"
  },
  "language_info": {
   "codemirror_mode": {
    "name": "ipython",
    "version": 3
   },
   "file_extension": ".py",
   "mimetype": "text/x-python",
   "name": "python",
   "nbconvert_exporter": "python",
   "pygments_lexer": "ipython3",
   "version": "3.9.7"
  }
 },
 "nbformat": 4,
 "nbformat_minor": 2
}
