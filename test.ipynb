{
 "cells": [
  {
   "cell_type": "code",
   "execution_count": 9,
   "metadata": {},
   "outputs": [],
   "source": [
    "import numpy as np\n",
    "from scipy.optimize import minimize\n",
    "import matplotlib.pyplot as plt\n",
    "from numba import njit\n",
    "import matplotlib.ticker as ticker\n",
    "from matplotlib.ticker import FormatStrFormatter\n",
    "import random"
   ]
  },
  {
   "cell_type": "code",
   "execution_count": 10,
   "metadata": {},
   "outputs": [],
   "source": [
    "#@njit\n",
    "def calculate_epsilon(T):\n",
    "    \"\"\"\n",
    "    args\n",
    "        T: number of periods\n",
    "    returns\n",
    "        A list of T epsilon values\n",
    "    \"\"\"\n",
    "    epsilon_values = []\n",
    "    \n",
    "    for i in range(T):\n",
    "        theta = -((1/1000000) ** (1/T)) + 1\n",
    "        epsilon = (1 - theta) ** i\n",
    "        epsilon_values.append(epsilon)\n",
    "    \n",
    "    return epsilon_values"
   ]
  },
  {
   "cell_type": "code",
   "execution_count": 11,
   "metadata": {},
   "outputs": [],
   "source": [
    "#@njit\n",
    "def demand(p1t,p2t):\n",
    "    \"\"\"\n",
    "    args:\n",
    "        p1t: price of agent 1\n",
    "        p2t: price of agent 2\n",
    "    returns:\n",
    "        d: demand for given set of prices\n",
    "    \"\"\"\n",
    "    if p1t<p2t:\n",
    "        d = 1-p1t\n",
    "    elif p1t==p2t:\n",
    "        d = 0.5*(1-p1t)\n",
    "    else:\n",
    "        d = 0\n",
    "    return d"
   ]
  },
  {
   "cell_type": "code",
   "execution_count": 12,
   "metadata": {},
   "outputs": [],
   "source": [
    "#@njit\n",
    "def profit(p1t, p2t, prices):\n",
    "    \"\"\"\n",
    "    args:\n",
    "        p1t: index price of agent 1\n",
    "        p2t: index price of agent 2\n",
    "        prices: vector of prices\n",
    "    returns:\n",
    "        profit for agent\n",
    "    \"\"\"\n",
    "    return prices[p1t] * demand(prices[p1t], prices[p2t])\n",
    " "
   ]
  },
  {
   "cell_type": "code",
   "execution_count": 13,
   "metadata": {},
   "outputs": [],
   "source": [
    "#@njit\n",
    "def select_price_greedy(Q, current_s, p, epsilon):\n",
    "    \"\"\"Epsilon-greedy action selection.\n",
    "    args:\n",
    "        Q: Q-function\n",
    "        current_s: current state\n",
    "        p: price vector containing the possible prices\n",
    "        epsilon: probability of selecting an action uniformly at random\n",
    "    returns:\n",
    "        the index of selected action\n",
    "    \"\"\"\n",
    "    u = random.uniform(0,1)\n",
    "    if u < epsilon:\n",
    "        #return np.random.choice(p)\n",
    "        random_index = np.random.choice(len(p))\n",
    "        return random_index\n",
    "    else:\n",
    "        max_idx = np.argmax(Q[np.where(p == current_s)[0][0], :])\n",
    "        #max_idx = np.argmax(Q[current_s, :])\n",
    "        return max_idx"
   ]
  },
  {
   "cell_type": "code",
   "execution_count": 14,
   "metadata": {},
   "outputs": [],
   "source": [
    "#@njit\n",
    "def Q_func(price_idx, current_state_idx, q_table, price_grid, delta, epsilon, alpha, it):\n",
    "    \"\"\"\n",
    "    args\n",
    "        price_idx: current price index\n",
    "        current_state_idx: current state index\n",
    "        q_table: q_table for 1 player\n",
    "        price_grid: price grid\n",
    "        delta: discount factor\n",
    "        epsilon: probability of exploration\n",
    "        alpha: step-size parameter\n",
    "    returns:\n",
    "        updated Q-table\n",
    "    \"\"\"\n",
    "    prev_est = q_table[price_idx, current_state_idx]\n",
    "    next_state_idx = select_price_greedy(q_table, price_grid[current_state_idx], price_grid, epsilon[it])\n",
    "    max_Q = np.argmax(q_table[:, next_state_idx])\n",
    "    new_est = profit(price_idx, current_state_idx, price_grid) + delta * profit(price_idx, next_state_idx, price_grid) + delta**2 * max_Q\n",
    "    q_table[price_idx, current_state_idx] = (1 - alpha) * prev_est + alpha * new_est\n",
    "    return next_state_idx\n",
    "    "
   ]
  },
  {
   "cell_type": "code",
   "execution_count": 15,
   "metadata": {},
   "outputs": [],
   "source": [
    "#@njit\n",
    "def simulation(alpha, delta, T, price_grid):\n",
    "    # Initializing values\n",
    "    epsilon = calculate_epsilon(T)\n",
    "    print(epsilon[50000])\n",
    "    k = len(price_grid)\n",
    "    q1 = np.zeros((k, k))\n",
    "    q2 = np.zeros((k, k))\n",
    "\n",
    "    p_table = np.zeros((2, T))\n",
    "    profits = np.zeros((2, T))\n",
    "    avg_prof1 = []\n",
    "    avg_prof2 = []\n",
    "\n",
    "    i = 0\n",
    "    j = 1\n",
    "    t = 0\n",
    "    # Setting prices for players in first 2 periods\n",
    "    p_table[i,t] = int(np.random.choice(len(price_grid)))\n",
    "    t += 1\n",
    "    p_table[j,t] = int(np.random.choice(len(price_grid)))\n",
    "    p_table[i,t] = p_table[i,t-1]\n",
    "    # Updating profits for players in first 2 periods\n",
    "    profits[i, t] = profit(int(p_table[i, t]), int(p_table[j, t]), price_grid)\n",
    "    profits[j, t] = profit(int(p_table[j, t]), int(p_table[i, t]), price_grid)\n",
    "\n",
    "    t += 1\n",
    "    for t in range(t, T - 1):\n",
    "        p_table[i, t] = Q_func(int(p_table[i, t - 2]), int(p_table[j, t - 2]), q1, price_grid, delta, epsilon, alpha, t)\n",
    "        p_table[j, t] = p_table[j,t-1]\n",
    "        # Updating other player's Q_table\n",
    "        Q_func(int(p_table[j, t - 2]), int(p_table[i, t - 2]), q2, price_grid, delta, epsilon, alpha, t)\n",
    "        profits[i, t] = profit(int(p_table[i, t]), int(p_table[j, t]), price_grid)\n",
    "        profits[j, t] = profit(int(p_table[j, t]), int(p_table[i, t]), price_grid)\n",
    "        if t % 1000 == 0:\n",
    "            profitability1 = np.sum(profits[i, (t - 1000):t]) / 1000\n",
    "            avg_prof1.append(profitability1)\n",
    "            profitability2 = np.sum(profits[j, (t - 1000):t]) / 1000\n",
    "            avg_prof2.append(profitability2)\n",
    "\n",
    "        #Changing between players\n",
    "        tmp = i\n",
    "        i = j\n",
    "        j = tmp\n",
    "\n",
    "    return p_table, q1, q2, profits, avg_prof1, avg_prof2\n",
    "\n",
    "\n"
   ]
  },
  {
   "cell_type": "code",
   "execution_count": 16,
   "metadata": {},
   "outputs": [
    {
     "name": "stdout",
     "output_type": "stream",
     "text": [
      "0.0010000000000010365\n"
     ]
    }
   ],
   "source": [
    "a,b,c,d,e,f = simulation(0.3, 0.95, 100000, np.linspace(1/6, 1, 6))\n"
   ]
  },
  {
   "cell_type": "code",
   "execution_count": 17,
   "metadata": {},
   "outputs": [
    {
     "name": "stdout",
     "output_type": "stream",
     "text": [
      "[2. 1. 1. 3. 3. 2. 2. 1. 1. 0. 0. 1. 1. 1.]\n",
      "[3. 3. 1. 1. 4. 4. 1. 1. 0. 0. 2. 2. 4. 4.]\n",
      "q1: \n",
      " [[1.28494227 1.34579995 0.71523448 1.3297856  1.18953086 2.90736514]\n",
      " [0.44492588 1.22472222 1.46575891 0.32777778 0.32777778 3.17939871]\n",
      " [1.26932112 1.03180628 0.78715    1.6836153  0.964875   3.01718963]\n",
      " [1.42976942 2.97266467 0.10766357 2.14023179 0.79582378 3.28078989]\n",
      " [0.63892959 1.12650007 0.04734691 0.03232729 0.06944444 2.86553724]\n",
      " [2.4679262  2.49514355 2.64555461 2.64379307 2.4049961  2.7075    ]]\n",
      "q2: \n",
      " [[2.98340213e-01 1.83209327e+00 1.40665941e+00 1.45796900e+00\n",
      "  2.71194441e-01 1.92718384e+00]\n",
      " [1.64648348e+00 1.22472222e+00 1.82199714e+00 2.55438528e+00\n",
      "  4.51397206e-01 2.23833333e+00]\n",
      " [9.28632436e-01 7.80630871e-01 2.16762543e+00 3.19035127e+00\n",
      "  1.84812800e+00 2.25490798e+00]\n",
      " [2.21629524e-01 1.11361111e+00 1.51353697e+00 3.02745639e+00\n",
      "  3.14082946e+00 2.13278937e+00]\n",
      " [7.63438623e-05 1.03444417e+00 9.86441780e-01 1.54713836e+00\n",
      "  2.84291667e+00 1.79523938e+00]\n",
      " [5.41500036e-01 1.69515214e+00 1.80553736e+00 2.70749103e+00\n",
      "  2.56702621e+00 1.80500000e+00]]\n"
     ]
    }
   ],
   "source": [
    "print(a[0, 1:15])\n",
    "print(a[1, 1:15])\n",
    "print(\"q1: \\n\", b)\n",
    "print(\"q2: \\n\", c)"
   ]
  },
  {
   "cell_type": "code",
   "execution_count": 18,
   "metadata": {},
   "outputs": [
    {
     "name": "stdout",
     "output_type": "stream",
     "text": [
      "q1: \n",
      " [[1.28494227 1.34579995 0.71523448 1.3297856  1.18953086 2.90736514]\n",
      " [0.44492588 1.22472222 1.46575891 0.32777778 0.32777778 3.17939871]\n",
      " [1.26932112 1.03180628 0.78715    1.6836153  0.964875   3.01718963]\n",
      " [1.42976942 2.97266467 0.10766357 2.14023179 0.79582378 3.28078989]\n",
      " [0.63892959 1.12650007 0.04734691 0.03232729 0.06944444 2.86553724]\n",
      " [2.4679262  2.49514355 2.64555461 2.64379307 2.4049961  2.7075    ]]\n",
      "q2: \n",
      " [[2.98340213e-01 1.83209327e+00 1.40665941e+00 1.45796900e+00\n",
      "  2.71194441e-01 1.92718384e+00]\n",
      " [1.64648348e+00 1.22472222e+00 1.82199714e+00 2.55438528e+00\n",
      "  4.51397206e-01 2.23833333e+00]\n",
      " [9.28632436e-01 7.80630871e-01 2.16762543e+00 3.19035127e+00\n",
      "  1.84812800e+00 2.25490798e+00]\n",
      " [2.21629524e-01 1.11361111e+00 1.51353697e+00 3.02745639e+00\n",
      "  3.14082946e+00 2.13278937e+00]\n",
      " [7.63438623e-05 1.03444417e+00 9.86441780e-01 1.54713836e+00\n",
      "  2.84291667e+00 1.79523938e+00]\n",
      " [5.41500036e-01 1.69515214e+00 1.80553736e+00 2.70749103e+00\n",
      "  2.56702621e+00 1.80500000e+00]]\n"
     ]
    }
   ],
   "source": [
    "print(\"q1: \\n\", b)\n",
    "print(\"q2: \\n\", c)"
   ]
  },
  {
   "cell_type": "code",
   "execution_count": 19,
   "metadata": {},
   "outputs": [
    {
     "name": "stdout",
     "output_type": "stream",
     "text": [
      "[0.         0.25       0.22222222 0.11111111 0.         0.22222222\n",
      " 0.25       0.         0.11111111 0.         0.06944444 0.13888889\n",
      " 0.22222222 0.22222222 0.22222222 0.         0.         0.11111111\n",
      " 0.         0.         0.22222222 0.11111111 0.11111111 0.22222222\n",
      " 0.         0.         0.11111111 0.11111111 0.11111111 0.22222222\n",
      " 0.22222222 0.22222222 0.         0.22222222 0.13888889 0.\n",
      " 0.         0.         0.125      0.25       0.22222222 0.\n",
      " 0.125      0.         0.         0.         0.11111111 0.\n",
      " 0.         0.22222222]\n",
      "[0.         0.         0.         0.11111111 0.22222222 0.\n",
      " 0.         0.22222222 0.11111111 0.13888889 0.06944444 0.\n",
      " 0.         0.         0.         0.13888889 0.13888889 0.11111111\n",
      " 0.22222222 0.22222222 0.         0.11111111 0.11111111 0.\n",
      " 0.22222222 0.22222222 0.11111111 0.11111111 0.11111111 0.\n",
      " 0.         0.         0.25       0.         0.         0.22222222\n",
      " 0.22222222 0.25       0.125      0.         0.         0.25\n",
      " 0.125      0.22222222 0.22222222 0.22222222 0.11111111 0.13888889\n",
      " 0.13888889 0.        ]\n"
     ]
    }
   ],
   "source": [
    "print(d[0,:50])\n",
    "print(d[1,:50])\n",
    "#print(e)\n",
    "#print(f)"
   ]
  },
  {
   "cell_type": "code",
   "execution_count": 20,
   "metadata": {},
   "outputs": [
    {
     "data": {
      "text/plain": [
       "5"
      ]
     },
     "execution_count": 20,
     "metadata": {},
     "output_type": "execute_result"
    }
   ],
   "source": [
    "a = [4, 5]\n",
    "np.random.choice(a)"
   ]
  },
  {
   "cell_type": "code",
   "execution_count": 21,
   "metadata": {},
   "outputs": [
    {
     "data": {
      "image/png": "[encoded data removed]",
      "text/plain": [
       "<Figure size 432x288 with 1 Axes>"
      ]
     },
     "metadata": {
      "needs_background": "light"
     },
     "output_type": "display_data"
    }
   ],
   "source": [
    "x_values = range(len(e))\n",
    "\n",
    "# Plot the array as a line graph\n",
    "plt.plot(x_values, e)\n",
    "\n",
    "# Add labels and title\n",
    "plt.xlabel('thousands')\n",
    "plt.ylabel('Profitability')\n",
    "plt.title('Array Graph')\n",
    "\n",
    "# Display the graph\n",
    "plt.show()"
   ]
  },
  {
   "cell_type": "code",
   "execution_count": 22,
   "metadata": {},
   "outputs": [
    {
     "data": {
      "text/plain": [
       "99"
      ]
     },
     "execution_count": 22,
     "metadata": {},
     "output_type": "execute_result"
    }
   ],
   "source": [
    "np.size(e)"
   ]
  },
  {
   "cell_type": "code",
   "execution_count": 23,
   "metadata": {},
   "outputs": [
    {
     "data": {
      "text/plain": [
       "0.22222222222222224"
      ]
     },
     "execution_count": 23,
     "metadata": {},
     "output_type": "execute_result"
    }
   ],
   "source": [
    "profit(3, 5, np.linspace(1/6, 1, 6))"
   ]
  }
 ],
 "metadata": {
  "kernelspec": {
   "display_name": "base",
   "language": "python",
   "name": "python3"
  },
  "language_info": {
   "codemirror_mode": {
    "name": "ipython",
    "version": 3
   },
   "file_extension": ".py",
   "mimetype": "text/x-python",
   "name": "python",
   "nbconvert_exporter": "python",
   "pygments_lexer": "ipython3",
   "version": "3.9.7"
  }
 },
 "nbformat": 4,
 "nbformat_minor": 2
}
