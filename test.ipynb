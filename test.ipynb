{
 "cells": [
  {
   "cell_type": "code",
   "execution_count": 1,
   "metadata": {},
   "outputs": [],
   "source": [
    "import numpy as np\n",
    "from scipy.optimize import minimize\n",
    "import matplotlib.pyplot as plt\n",
    "from numba import njit\n",
    "import matplotlib.ticker as ticker\n",
    "from matplotlib.ticker import FormatStrFormatter\n",
    "import random"
   ]
  },
  {
   "cell_type": "code",
   "execution_count": 2,
   "metadata": {},
   "outputs": [],
   "source": [
    "def calculate_epsilon(T):\n",
    "    epsilon_values = []\n",
    "    \n",
    "    for i in range(T):\n",
    "        theta = -((1/1000000) ** (1/T)) + 1\n",
    "        epsilon = (1 - theta) ** i\n",
    "        epsilon_values.append(epsilon)\n",
    "    \n",
    "    return epsilon_values"
   ]
  },
  {
   "cell_type": "code",
   "execution_count": null,
   "metadata": {},
   "outputs": [],
   "source": []
  },
  {
   "cell_type": "code",
   "execution_count": 3,
   "metadata": {},
   "outputs": [],
   "source": [
    "def demand(p1t,p2t):\n",
    "    \"\"\"\n",
    "    args:\n",
    "        p1t: price of agent 1\n",
    "        p2t: price of agent 2\n",
    "    returns:\n",
    "        d: demand for given set of prices\n",
    "    \"\"\"\n",
    "    if p1t<p2t:\n",
    "        d = 1-p1t\n",
    "    elif p1t==p2t:\n",
    "        d = 0.5*(1-p1t)\n",
    "    else:\n",
    "        d = 0\n",
    "    return d"
   ]
  },
  {
   "cell_type": "code",
   "execution_count": 4,
   "metadata": {},
   "outputs": [],
   "source": [
    "def profit(p1t, p2t, price_table):\n",
    "    \"\"\"\n",
    "    args:\n",
    "        p1t: index price of agent 1\n",
    "        p2t: index price of agent 2\n",
    "    returns:\n",
    "        profit for agent\n",
    "    \"\"\"\n",
    "    return price_table[p1t] * demand(price_table[p1t], price_table[p2t])\n",
    " "
   ]
  },
  {
   "cell_type": "code",
   "execution_count": 5,
   "metadata": {},
   "outputs": [],
   "source": [
    "def select_price_greedy(Q, current_s, p, epsilon):\n",
    "    \"\"\"Epsilon-greedy action selection.\n",
    "    args:\n",
    "        Q: Q-function\n",
    "        current_s: current state\n",
    "        p: price vector containing the possible prices\n",
    "        epsilon: probability of selecting an action uniformly at random\n",
    "    returns:\n",
    "        the index of selected action\n",
    "    \"\"\"\n",
    "    u = random.uniform(0,1)\n",
    "    if u < epsilon:\n",
    "        #return np.random.choice(p)\n",
    "        random_index = np.random.choice(len(p))\n",
    "        return random_index\n",
    "    else:\n",
    "\n",
    "        max_idx = np.argmax(Q[np.where(p == current_s)[0][0], :])\n",
    "        #max_idx = np.argmax(Q[current_s, :])\n",
    "        return max_idx"
   ]
  },
  {
   "cell_type": "code",
   "execution_count": null,
   "metadata": {},
   "outputs": [],
   "source": [
    "def Q_func(price_idx, current_state_idx, q_table, price_table, delta, epsilon, alpha):\n",
    "    \"\"\"\n",
    "    args\n",
    "        price_idx: current price index\n",
    "        current_state_idx: current state index\n",
    "        q_table: q_table for 1 player\n",
    "    returns:\n",
    "        updated Q-table\n",
    "    \"\"\"\n",
    "    prev_est = q_table[price_idx, current_state_idx]\n",
    "    next_state_idx = select_price_greedy(q_table, price_table[current_state_idx], price_table, epsilon)\n",
    "    new_est = profit(price_idx, current_state_idx) + delta * profit(price_idx, next_state_idx, price_table) + delta**2 * np.argmax(q_table[:, next_state_idx])\n",
    "    q_table[price_idx, current_state_idx] = (1 - alpha) * prev_est + alpha * new_est\n",
    "    return q_table\n",
    "    "
   ]
  },
  {
   "cell_type": "code",
   "execution_count": null,
   "metadata": {},
   "outputs": [],
   "source": [
    "Q_func()"
   ]
  }
 ],
 "metadata": {
  "kernelspec": {
   "display_name": "base",
   "language": "python",
   "name": "python3"
  },
  "language_info": {
   "codemirror_mode": {
    "name": "ipython",
    "version": 3
   },
   "file_extension": ".py",
   "mimetype": "text/x-python",
   "name": "python",
   "nbconvert_exporter": "python",
   "pygments_lexer": "ipython3",
   "version": "3.9.7"
  }
 },
 "nbformat": 4,
 "nbformat_minor": 2
}
