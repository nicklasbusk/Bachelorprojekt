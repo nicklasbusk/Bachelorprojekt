{
 "cells": [
  {
   "cell_type": "code",
   "execution_count": 2,
   "metadata": {},
   "outputs": [],
   "source": [
    "import numpy as np\n",
    "from scipy.optimize import minimize\n",
    "import matplotlib.pyplot as plt\n",
    "from numba import njit\n",
    "import matplotlib.ticker as ticker\n",
    "from matplotlib.ticker import FormatStrFormatter\n",
    "import random"
   ]
  },
  {
   "cell_type": "code",
   "execution_count": 3,
   "metadata": {},
   "outputs": [],
   "source": [
    "def calculate_epsilon(T):\n",
    "    epsilon_values = []\n",
    "    \n",
    "    for i in range(T):\n",
    "        theta = -((1/1000000) ** (1/T)) + 1\n",
    "        epsilon = (1 - theta) ** i\n",
    "        epsilon_values.append(epsilon)\n",
    "    \n",
    "    return epsilon_values"
   ]
  },
  {
   "cell_type": "code",
   "execution_count": 4,
   "metadata": {},
   "outputs": [],
   "source": [
    "def demand(p1t,p2t):\n",
    "    \"\"\"\n",
    "    args:\n",
    "        p1t: price of agent 1\n",
    "        p2t: price of agent 2\n",
    "    returns:\n",
    "        d: demand for given set of prices\n",
    "    \"\"\"\n",
    "    if p1t<p2t:\n",
    "        d = 1-p1t\n",
    "    elif p1t==p2t:\n",
    "        d = 0.5*(1-p1t)\n",
    "    else:\n",
    "        d = 0\n",
    "    return d"
   ]
  },
  {
   "cell_type": "code",
   "execution_count": 33,
   "metadata": {},
   "outputs": [],
   "source": [
    "def profit(p1t, p2t, prices):\n",
    "    \"\"\"\n",
    "    args:\n",
    "        p1t: index price of agent 1\n",
    "        p2t: index price of agent 2\n",
    "        prices: vector of prices\n",
    "    returns:\n",
    "        profit for agent\n",
    "    \"\"\"\n",
    "    return prices[p1t] * demand(prices[p1t], prices[p2t])\n",
    " "
   ]
  },
  {
   "cell_type": "code",
   "execution_count": 34,
   "metadata": {},
   "outputs": [],
   "source": [
    "def select_price_greedy(Q, current_s, p, epsilon):\n",
    "    \"\"\"Epsilon-greedy action selection.\n",
    "    args:\n",
    "        Q: Q-function\n",
    "        current_s: current state\n",
    "        p: price vector containing the possible prices\n",
    "        epsilon: probability of selecting an action uniformly at random\n",
    "    returns:\n",
    "        the index of selected action\n",
    "    \"\"\"\n",
    "    u = random.uniform(0,1)\n",
    "    if u < epsilon:\n",
    "        #return np.random.choice(p)\n",
    "        random_index = np.random.choice(len(p))\n",
    "        return random_index\n",
    "    else:\n",
    "\n",
    "        max_idx = np.argmax(Q[np.where(p == current_s)[0][0], :])\n",
    "        #max_idx = np.argmax(Q[current_s, :])\n",
    "        return max_idx"
   ]
  },
  {
   "cell_type": "code",
   "execution_count": 73,
   "metadata": {},
   "outputs": [],
   "source": [
    "def Q_func(price_idx, current_state_idx, q_table, price_grid, delta, epsilon, alpha, it):\n",
    "    \"\"\"\n",
    "    args\n",
    "        price_idx: current price index\n",
    "        current_state_idx: current state index\n",
    "        q_table: q_table for 1 player\n",
    "        price_grid: price grid\n",
    "        delta: discount factor\n",
    "        epsilon: probability of exploration\n",
    "        alpha: step-size parameter\n",
    "    returns:\n",
    "        updated Q-table\n",
    "    \"\"\"\n",
    "    #print(\"price_idx: \", price_idx)\n",
    "    #print(\"current_state_idx\", current_state_idx)\n",
    "    prev_est = q_table[price_idx, current_state_idx]\n",
    "    next_state_idx = select_price_greedy(q_table, price_grid[current_state_idx], price_grid, epsilon[it])\n",
    "    new_est = profit(price_idx, current_state_idx, price_grid) + delta * profit(price_idx, next_state_idx, price_grid) + delta**2 * np.argmax(q_table[:, next_state_idx])\n",
    "    q_table[price_idx, current_state_idx] = (1 - alpha) * prev_est + alpha * new_est\n",
    "    return next_state_idx\n",
    "    "
   ]
  },
  {
   "cell_type": "code",
   "execution_count": 111,
   "metadata": {},
   "outputs": [],
   "source": [
    "def simulation(alpha, delta, T, price_grid):\n",
    "    epsilon = calculate_epsilon(T)\n",
    "    k = len(price_grid)\n",
    "    q1 = np.zeros((k, k))\n",
    "    q2 = np.zeros((k, k))\n",
    "\n",
    "    profits = np.zeros((2, T))\n",
    "    avg_prof1 = []\n",
    "    avg_prof2 = []\n",
    "\n",
    "    i = 0\n",
    "    j = 1\n",
    "    t = 0\n",
    "\n",
    "    p_table = np.zeros((2, T))\n",
    "\n",
    "    p_table[i,t] = int(np.random.choice(len(price_grid)))\n",
    "    t += 1\n",
    "    p_table[j,t] = int(np.random.choice(len(price_grid)))\n",
    "    p_table[i,t] = p_table[i,t-1]\n",
    "\n",
    "    t += 1\n",
    "\n",
    "    for t in range(t, T - 1):\n",
    "        if i == 0:\n",
    "            #print(p_table)\n",
    "            #print(t)\n",
    "            #print(p_table[i,t -2])\n",
    "            p_table[i,t] = Q_func(int(p_table[i, t-2]), int(p_table[j, t-2]), q1, price_grid, delta, epsilon, alpha, t)\n",
    "            p_table[j, t] = p_table[j, t-1]\n",
    "            profits[i, t] = profit(int(p_table[i,t]), int(p_table[j,t]), price_grid)\n",
    "            if t % 1000 == 0:\n",
    "                profitability = np.sum(profits[i, (t-1000):1000])/1000\n",
    "                avg_prof1.append(profitability)\n",
    "        else:\n",
    "            p_table[i,t] = Q_func(int(p_table[i, t-2]), int(p_table[j, t-2]), q2, price_grid, delta, epsilon, alpha, t)\n",
    "            p_table[j, t] = p_table[j, t-1]\n",
    "            profits[j, t] = profit(int(p_table[i,t]), int(p_table[j,t]), price_grid)\n",
    "            if t % 1000 == 0:\n",
    "                profitability = np.sum(profits[j, (t-1000):1000])/1000\n",
    "                avg_prof2.append(profitability)\n",
    "        tmp = i   \n",
    "        i = j\n",
    "        j = tmp\n",
    "    return p_table, q1, q2, profits, avg_prof1, avg_prof2\n",
    "\n",
    "\n"
   ]
  },
  {
   "cell_type": "code",
   "execution_count": 112,
   "metadata": {},
   "outputs": [
    {
     "name": "stdout",
     "output_type": "stream",
     "text": [
      "[5. 5. 5. 5. 5. 5. 5. 5. 5. 5.]\n",
      "[0. 3. 3. 3. 3. 0. 0. 3. 3. 1.]\n",
      "[[3.20465619e+00 3.68580462e+00 1.17333333e+00 2.87602957e+00\n",
      "  3.46405821e+00 2.61769299e+00]\n",
      " [3.71555556e+00 2.34534117e+00 3.01154043e+00 3.14083333e+00\n",
      "  3.51813274e+00 3.41959521e+00]\n",
      " [1.84110002e+00 2.94499981e+00 1.26500000e+00 3.07002099e+00\n",
      "  1.39025417e+00 2.83399881e+00]\n",
      " [3.46432348e+00 2.11111226e-01 1.91055555e+00 3.02923569e+00\n",
      "  3.81855837e+00 3.54698433e+00]\n",
      " [3.61000000e+00 3.76527106e+00 2.13887358e+00 2.77347222e+00\n",
      "  3.77316687e+00 3.84249807e+00]\n",
      " [3.58551615e+00 9.02493908e-01 2.34209015e-06 2.70150146e+00\n",
      "  2.79775000e+00 3.60992375e+00]]\n"
     ]
    }
   ],
   "source": [
    "a,b,c,d,e,f =simulation(0.3, 0.95, 5000000, np.linspace(1/6, 1, 6))\n",
    "print(a[0,:10])\n",
    "print(a[1,:10])\n",
    "print(b)\n"
   ]
  },
  {
   "cell_type": "code",
   "execution_count": 113,
   "metadata": {},
   "outputs": [
    {
     "name": "stdout",
     "output_type": "stream",
     "text": [
      "[0.         0.         0.         0.22222222 0.         0.13888889\n",
      " 0.         0.22222222 0.         0.22222222]\n",
      "[0. 0. 0. 0. 0. 0. 0. 0. 0. 0.]\n"
     ]
    }
   ],
   "source": [
    "print(d[0,:10])\n",
    "print(d[1,:10])\n",
    "#print(e)\n",
    "#print(f)"
   ]
  },
  {
   "cell_type": "code",
   "execution_count": 37,
   "metadata": {},
   "outputs": [
    {
     "data": {
      "text/plain": [
       "5"
      ]
     },
     "execution_count": 37,
     "metadata": {},
     "output_type": "execute_result"
    }
   ],
   "source": [
    "a = [4, 5]\n",
    "np.random.choice(a)"
   ]
  },
  {
   "cell_type": "code",
   "execution_count": null,
   "metadata": {},
   "outputs": [],
   "source": []
  }
 ],
 "metadata": {
  "kernelspec": {
   "display_name": "base",
   "language": "python",
   "name": "python3"
  },
  "language_info": {
   "codemirror_mode": {
    "name": "ipython",
    "version": 3
   },
   "file_extension": ".py",
   "mimetype": "text/x-python",
   "name": "python",
   "nbconvert_exporter": "python",
   "pygments_lexer": "ipython3",
   "version": "3.9.7"
  }
 },
 "nbformat": 4,
 "nbformat_minor": 2
}
